{
  "nbformat": 4,
  "nbformat_minor": 0,
  "metadata": {
    "colab": {
      "name": "DF_Retweet (1).ipynb",
      "provenance": [],
      "collapsed_sections": []
    },
    "kernelspec": {
      "display_name": "Python 3",
      "language": "python",
      "name": "python3"
    },
    "language_info": {
      "codemirror_mode": {
        "name": "ipython",
        "version": 3
      },
      "file_extension": ".py",
      "mimetype": "text/x-python",
      "name": "python",
      "nbconvert_exporter": "python",
      "pygments_lexer": "ipython3",
      "version": "3.7.3"
    }
  },
  "cells": [
    {
      "cell_type": "code",
      "metadata": {
        "id": "wMzmDdFRSi3-"
      },
      "source": [
        "import pandas as pd\n",
        "import networkx as nx\n",
        "import numpy as np"
      ],
      "execution_count": null,
      "outputs": []
    },
    {
      "cell_type": "code",
      "metadata": {
        "colab": {
          "base_uri": "https://localhost:8080/"
        },
        "id": "5TDCo2UgFHMH",
        "outputId": "3d0214f0-0eef-430a-fa82-dfc504e82862"
      },
      "source": [
        "from google.colab import drive\n",
        "drive.mount('/content/drive')"
      ],
      "execution_count": null,
      "outputs": [
        {
          "output_type": "stream",
          "text": [
            "Mounted at /content/drive\n"
          ],
          "name": "stdout"
        }
      ]
    },
    {
      "cell_type": "code",
      "metadata": {
        "id": "RXwlDcykWdgL"
      },
      "source": [
        "data=pd.read_csv('drive/MyDrive/DM/suns-bucks-G6.csv', sep=',', engine='python', error_bad_lines=False)"
      ],
      "execution_count": null,
      "outputs": []
    },
    {
      "cell_type": "code",
      "metadata": {
        "id": "76tGmXHg21fV"
      },
      "source": [
        "data = data[data['retweeted_status__user_id'].notna()]"
      ],
      "execution_count": null,
      "outputs": []
    },
    {
      "cell_type": "code",
      "metadata": {
        "id": "uWripCgt4UT4"
      },
      "source": [
        "data['id_str'] = data['id_str'].apply(pd.to_numeric, args=('coerce',))"
      ],
      "execution_count": null,
      "outputs": []
    },
    {
      "cell_type": "code",
      "metadata": {
        "id": "uCZEkd52590u"
      },
      "source": [
        "data['retweeted_status__user_id']=data['retweeted_status__user_id'].round(0).astype(int)"
      ],
      "execution_count": null,
      "outputs": []
    },
    {
      "cell_type": "code",
      "metadata": {
        "id": "B-2rVxz12xJk"
      },
      "source": [
        "data=data[data['user_followers'] > 100] # numero minimo di follower che un user deve avere per essere nel grafo"
      ],
      "execution_count": null,
      "outputs": []
    },
    {
      "cell_type": "code",
      "metadata": {
        "colab": {
          "base_uri": "https://localhost:8080/",
          "height": 526
        },
        "id": "HlXn_bVu4f-b",
        "outputId": "afddcfdc-74ea-4d0b-9ec9-66a2d19486c4"
      },
      "source": [
        "data.head()"
      ],
      "execution_count": null,
      "outputs": [
        {
          "output_type": "execute_result",
          "data": {
            "text/html": [
              "<div>\n",
              "<style scoped>\n",
              "    .dataframe tbody tr th:only-of-type {\n",
              "        vertical-align: middle;\n",
              "    }\n",
              "\n",
              "    .dataframe tbody tr th {\n",
              "        vertical-align: top;\n",
              "    }\n",
              "\n",
              "    .dataframe thead th {\n",
              "        text-align: right;\n",
              "    }\n",
              "</style>\n",
              "<table border=\"1\" class=\"dataframe\">\n",
              "  <thead>\n",
              "    <tr style=\"text-align: right;\">\n",
              "      <th></th>\n",
              "      <th>Unnamed: 0</th>\n",
              "      <th>_id</th>\n",
              "      <th>id</th>\n",
              "      <th>user_location</th>\n",
              "      <th>language</th>\n",
              "      <th>timestamp</th>\n",
              "      <th>text</th>\n",
              "      <th>retweet_count</th>\n",
              "      <th>user_followers</th>\n",
              "      <th>geo</th>\n",
              "      <th>coordinates</th>\n",
              "      <th>retweeted</th>\n",
              "      <th>is_a_retweet</th>\n",
              "      <th>user_mentions</th>\n",
              "      <th>entities_hashtags</th>\n",
              "      <th>in_reply_to_status_id_str</th>\n",
              "      <th>in_reply_to_user_id_str</th>\n",
              "      <th>retweeted_status_id</th>\n",
              "      <th>retweeted_status__user_id</th>\n",
              "      <th>retweeted_status_user_name</th>\n",
              "      <th>id_str</th>\n",
              "      <th>screen_name</th>\n",
              "    </tr>\n",
              "  </thead>\n",
              "  <tbody>\n",
              "    <tr>\n",
              "      <th>0</th>\n",
              "      <td>0</td>\n",
              "      <td>60f74336b712538547cbf0fc</td>\n",
              "      <td>1417600743033360384</td>\n",
              "      <td>AZ</td>\n",
              "      <td>en</td>\n",
              "      <td>2021-07-20 23:42:09</td>\n",
              "      <td>RT @Suns: 𝐍𝐁𝐀 𝐅𝐈𝐍𝐀𝐋𝐒. 𝐆𝐀𝐌𝐄 𝟔.\\n\\n📺 @ABCNetwork...</td>\n",
              "      <td>0</td>\n",
              "      <td>1537</td>\n",
              "      <td>NaN</td>\n",
              "      <td>NaN</td>\n",
              "      <td>False</td>\n",
              "      <td>&lt;Thread(Thread-5, started 140013339797248)&gt;</td>\n",
              "      <td>[{'screen_name': 'Suns', 'name': 'Phoenix Suns...</td>\n",
              "      <td>[{'text': 'RallyTheValley', 'indices': [120, 1...</td>\n",
              "      <td>NaN</td>\n",
              "      <td>NaN</td>\n",
              "      <td>1.417543e+18</td>\n",
              "      <td>18481113</td>\n",
              "      <td>Phoenix Suns</td>\n",
              "      <td>1146370740</td>\n",
              "      <td>boi_guapo</td>\n",
              "    </tr>\n",
              "    <tr>\n",
              "      <th>1</th>\n",
              "      <td>1</td>\n",
              "      <td>60f74338b712538547cbf0fd</td>\n",
              "      <td>1417600749182365700</td>\n",
              "      <td>Stockholm, Sverige</td>\n",
              "      <td>en</td>\n",
              "      <td>2021-07-20 23:42:11</td>\n",
              "      <td>RT @davidalangrier: BREAKING NEWS: NBA Ref Sco...</td>\n",
              "      <td>0</td>\n",
              "      <td>1036</td>\n",
              "      <td>NaN</td>\n",
              "      <td>NaN</td>\n",
              "      <td>False</td>\n",
              "      <td>&lt;Thread(Thread-5, started 140013339797248)&gt;</td>\n",
              "      <td>[{'screen_name': 'davidalangrier', 'name': 'Da...</td>\n",
              "      <td>[{'text': 'NBAFinals', 'indices': [120, 130]}]</td>\n",
              "      <td>NaN</td>\n",
              "      <td>NaN</td>\n",
              "      <td>1.417601e+18</td>\n",
              "      <td>18144089</td>\n",
              "      <td>David Alan Grier</td>\n",
              "      <td>1061255281341054977</td>\n",
              "      <td>Ahmedberhan1</td>\n",
              "    </tr>\n",
              "    <tr>\n",
              "      <th>2</th>\n",
              "      <td>2</td>\n",
              "      <td>60f7433ab712538547cbf0fe</td>\n",
              "      <td>1417600757872959492</td>\n",
              "      <td>By the Rich People</td>\n",
              "      <td>en</td>\n",
              "      <td>2021-07-20 23:42:13</td>\n",
              "      <td>RT @wildcardsprts: 4K+ streams‼️\\n\\nFor our al...</td>\n",
              "      <td>0</td>\n",
              "      <td>2485</td>\n",
              "      <td>NaN</td>\n",
              "      <td>NaN</td>\n",
              "      <td>False</td>\n",
              "      <td>&lt;Thread(Thread-5, started 140013339797248)&gt;</td>\n",
              "      <td>[{'screen_name': 'wildcardsprts', 'name': 'Wil...</td>\n",
              "      <td>[]</td>\n",
              "      <td>NaN</td>\n",
              "      <td>NaN</td>\n",
              "      <td>1.417596e+18</td>\n",
              "      <td>1142280818934583168</td>\n",
              "      <td>WildCard Sports</td>\n",
              "      <td>239012690</td>\n",
              "      <td>Pastor_KevyKev</td>\n",
              "    </tr>\n",
              "    <tr>\n",
              "      <th>4</th>\n",
              "      <td>4</td>\n",
              "      <td>60f7433bb712538547cbf100</td>\n",
              "      <td>1417600763707154435</td>\n",
              "      <td>NaN</td>\n",
              "      <td>en</td>\n",
              "      <td>2021-07-20 23:42:14</td>\n",
              "      <td>RT @JohnnyPropz: NBA 🏀 July 20th:\\n\\nD. Ayton ...</td>\n",
              "      <td>0</td>\n",
              "      <td>664</td>\n",
              "      <td>NaN</td>\n",
              "      <td>NaN</td>\n",
              "      <td>False</td>\n",
              "      <td>&lt;Thread(Thread-5, started 140013339797248)&gt;</td>\n",
              "      <td>[{'screen_name': 'JohnnyPropz', 'name': 'Johnn...</td>\n",
              "      <td>[{'text': 'BettingExpert', 'indices': [82, 96]...</td>\n",
              "      <td>NaN</td>\n",
              "      <td>NaN</td>\n",
              "      <td>1.417601e+18</td>\n",
              "      <td>1356722543995068416</td>\n",
              "      <td>Johnny Props</td>\n",
              "      <td>1281401105398796288</td>\n",
              "      <td>JohnnyLockz</td>\n",
              "    </tr>\n",
              "    <tr>\n",
              "      <th>5</th>\n",
              "      <td>5</td>\n",
              "      <td>60f7433eb712538547cbf101</td>\n",
              "      <td>1417600777049317378</td>\n",
              "      <td>with Nayi</td>\n",
              "      <td>en</td>\n",
              "      <td>2021-07-20 23:42:17</td>\n",
              "      <td>RT @XXL: The latest Kanye West rumors are sayi...</td>\n",
              "      <td>0</td>\n",
              "      <td>351</td>\n",
              "      <td>NaN</td>\n",
              "      <td>NaN</td>\n",
              "      <td>False</td>\n",
              "      <td>&lt;Thread(Thread-5, started 140013339797248)&gt;</td>\n",
              "      <td>[{'screen_name': 'XXL', 'name': 'XXL Magazine'...</td>\n",
              "      <td>[]</td>\n",
              "      <td>NaN</td>\n",
              "      <td>NaN</td>\n",
              "      <td>1.417581e+18</td>\n",
              "      <td>14629315</td>\n",
              "      <td>XXL Magazine</td>\n",
              "      <td>2945507472</td>\n",
              "      <td>KanJayW3st</td>\n",
              "    </tr>\n",
              "  </tbody>\n",
              "</table>\n",
              "</div>"
            ],
            "text/plain": [
              "   Unnamed: 0                       _id  ...               id_str     screen_name\n",
              "0           0  60f74336b712538547cbf0fc  ...           1146370740       boi_guapo\n",
              "1           1  60f74338b712538547cbf0fd  ...  1061255281341054977    Ahmedberhan1\n",
              "2           2  60f7433ab712538547cbf0fe  ...            239012690  Pastor_KevyKev\n",
              "4           4  60f7433bb712538547cbf100  ...  1281401105398796288     JohnnyLockz\n",
              "5           5  60f7433eb712538547cbf101  ...           2945507472      KanJayW3st\n",
              "\n",
              "[5 rows x 22 columns]"
            ]
          },
          "metadata": {},
          "execution_count": 8
        }
      ]
    },
    {
      "cell_type": "code",
      "metadata": {
        "id": "pTV1PMH-XM14"
      },
      "source": [
        "df=data[['id_str','screen_name','retweeted_status__user_id','retweeted_status_user_name']]"
      ],
      "execution_count": null,
      "outputs": []
    },
    {
      "cell_type": "code",
      "metadata": {
        "colab": {
          "base_uri": "https://localhost:8080/",
          "height": 417
        },
        "id": "XikxsraZW3LQ",
        "outputId": "7bc90324-c9e1-402a-e183-f36de37cb804"
      },
      "source": [
        "df=df.groupby(df.columns.tolist(),as_index=False).size().reset_index()\n",
        "#df.columns=['id_str','retweeted_status__user_id','weight']\n",
        "#df=df.drop(' index')\n",
        "df=df.rename(columns={'id_str':'user.id_str','retweeted_status__user_id':'user_id_ret','size':'weight'})\n",
        "df"
      ],
      "execution_count": null,
      "outputs": [
        {
          "output_type": "execute_result",
          "data": {
            "text/html": [
              "<div>\n",
              "<style scoped>\n",
              "    .dataframe tbody tr th:only-of-type {\n",
              "        vertical-align: middle;\n",
              "    }\n",
              "\n",
              "    .dataframe tbody tr th {\n",
              "        vertical-align: top;\n",
              "    }\n",
              "\n",
              "    .dataframe thead th {\n",
              "        text-align: right;\n",
              "    }\n",
              "</style>\n",
              "<table border=\"1\" class=\"dataframe\">\n",
              "  <thead>\n",
              "    <tr style=\"text-align: right;\">\n",
              "      <th></th>\n",
              "      <th>index</th>\n",
              "      <th>user.id_str</th>\n",
              "      <th>screen_name</th>\n",
              "      <th>user_id_ret</th>\n",
              "      <th>retweeted_status_user_name</th>\n",
              "      <th>weight</th>\n",
              "    </tr>\n",
              "  </thead>\n",
              "  <tbody>\n",
              "    <tr>\n",
              "      <th>0</th>\n",
              "      <td>0</td>\n",
              "      <td>12225</td>\n",
              "      <td>satya</td>\n",
              "      <td>19085082</td>\n",
              "      <td>Bally Sports Wisconsin</td>\n",
              "      <td>1</td>\n",
              "    </tr>\n",
              "    <tr>\n",
              "      <th>1</th>\n",
              "      <td>1</td>\n",
              "      <td>20503</td>\n",
              "      <td>pageman</td>\n",
              "      <td>15053533</td>\n",
              "      <td>Mike De Sisti</td>\n",
              "      <td>1</td>\n",
              "    </tr>\n",
              "    <tr>\n",
              "      <th>2</th>\n",
              "      <td>2</td>\n",
              "      <td>20503</td>\n",
              "      <td>pageman</td>\n",
              "      <td>15900167</td>\n",
              "      <td>Milwaukee Bucks</td>\n",
              "      <td>1</td>\n",
              "    </tr>\n",
              "    <tr>\n",
              "      <th>3</th>\n",
              "      <td>3</td>\n",
              "      <td>20503</td>\n",
              "      <td>pageman</td>\n",
              "      <td>22178780</td>\n",
              "      <td>NBA on TNT</td>\n",
              "      <td>1</td>\n",
              "    </tr>\n",
              "    <tr>\n",
              "      <th>4</th>\n",
              "      <td>4</td>\n",
              "      <td>20503</td>\n",
              "      <td>pageman</td>\n",
              "      <td>366781966</td>\n",
              "      <td>Lily Zhao</td>\n",
              "      <td>1</td>\n",
              "    </tr>\n",
              "    <tr>\n",
              "      <th>...</th>\n",
              "      <td>...</td>\n",
              "      <td>...</td>\n",
              "      <td>...</td>\n",
              "      <td>...</td>\n",
              "      <td>...</td>\n",
              "      <td>...</td>\n",
              "    </tr>\n",
              "    <tr>\n",
              "      <th>79633</th>\n",
              "      <td>79633</td>\n",
              "      <td>1417583932934135813</td>\n",
              "      <td>KhashIn6ix</td>\n",
              "      <td>15900167</td>\n",
              "      <td>Milwaukee Bucks</td>\n",
              "      <td>7</td>\n",
              "    </tr>\n",
              "    <tr>\n",
              "      <th>79634</th>\n",
              "      <td>79634</td>\n",
              "      <td>1417583932934135813</td>\n",
              "      <td>KhashIn6ix</td>\n",
              "      <td>25319414</td>\n",
              "      <td>NBA TV</td>\n",
              "      <td>1</td>\n",
              "    </tr>\n",
              "    <tr>\n",
              "      <th>79635</th>\n",
              "      <td>79635</td>\n",
              "      <td>1417583932934135813</td>\n",
              "      <td>KhashIn6ix</td>\n",
              "      <td>52824038</td>\n",
              "      <td>Milwaukee Brewers</td>\n",
              "      <td>1</td>\n",
              "    </tr>\n",
              "    <tr>\n",
              "      <th>79636</th>\n",
              "      <td>79636</td>\n",
              "      <td>1417583932934135813</td>\n",
              "      <td>KhashIn6ix</td>\n",
              "      <td>130997057</td>\n",
              "      <td>Aaron Rodgers</td>\n",
              "      <td>1</td>\n",
              "    </tr>\n",
              "    <tr>\n",
              "      <th>79637</th>\n",
              "      <td>79637</td>\n",
              "      <td>1417583932934135813</td>\n",
              "      <td>KhashIn6ix</td>\n",
              "      <td>172580748</td>\n",
              "      <td>Freezing Cold Takes</td>\n",
              "      <td>1</td>\n",
              "    </tr>\n",
              "  </tbody>\n",
              "</table>\n",
              "<p>79638 rows × 6 columns</p>\n",
              "</div>"
            ],
            "text/plain": [
              "       index          user.id_str  ... retweeted_status_user_name  weight\n",
              "0          0                12225  ...     Bally Sports Wisconsin       1\n",
              "1          1                20503  ...              Mike De Sisti       1\n",
              "2          2                20503  ...            Milwaukee Bucks       1\n",
              "3          3                20503  ...                 NBA on TNT       1\n",
              "4          4                20503  ...                  Lily Zhao       1\n",
              "...      ...                  ...  ...                        ...     ...\n",
              "79633  79633  1417583932934135813  ...            Milwaukee Bucks       7\n",
              "79634  79634  1417583932934135813  ...                     NBA TV       1\n",
              "79635  79635  1417583932934135813  ...          Milwaukee Brewers       1\n",
              "79636  79636  1417583932934135813  ...              Aaron Rodgers       1\n",
              "79637  79637  1417583932934135813  ...        Freezing Cold Takes       1\n",
              "\n",
              "[79638 rows x 6 columns]"
            ]
          },
          "metadata": {},
          "execution_count": 10
        }
      ]
    },
    {
      "cell_type": "code",
      "metadata": {
        "id": "XBBuezIpjJxI"
      },
      "source": [
        "df1=df.groupby('retweeted_status_user_name')['weight'].sum().reset_index()"
      ],
      "execution_count": null,
      "outputs": []
    },
    {
      "cell_type": "code",
      "metadata": {
        "id": "dAwpWPE5kN4z"
      },
      "source": [
        "df1=df1[df1['weight'] > 1000] # qua cambio il numero di retweet totali per cui un user ha poi la label"
      ],
      "execution_count": null,
      "outputs": []
    },
    {
      "cell_type": "code",
      "metadata": {
        "colab": {
          "base_uri": "https://localhost:8080/",
          "height": 418
        },
        "id": "RObLgr_3kN7b",
        "outputId": "c29129bb-9c70-4d73-aba7-ad17d5863528"
      },
      "source": [
        "df1"
      ],
      "execution_count": null,
      "outputs": [
        {
          "output_type": "execute_result",
          "data": {
            "text/html": [
              "<div>\n",
              "<style scoped>\n",
              "    .dataframe tbody tr th:only-of-type {\n",
              "        vertical-align: middle;\n",
              "    }\n",
              "\n",
              "    .dataframe tbody tr th {\n",
              "        vertical-align: top;\n",
              "    }\n",
              "\n",
              "    .dataframe thead th {\n",
              "        text-align: right;\n",
              "    }\n",
              "</style>\n",
              "<table border=\"1\" class=\"dataframe\">\n",
              "  <thead>\n",
              "    <tr style=\"text-align: right;\">\n",
              "      <th></th>\n",
              "      <th>retweeted_status_user_name</th>\n",
              "      <th>weight</th>\n",
              "    </tr>\n",
              "  </thead>\n",
              "  <tbody>\n",
              "    <tr>\n",
              "      <th>1176</th>\n",
              "      <td>Camisa 23</td>\n",
              "      <td>1977</td>\n",
              "    </tr>\n",
              "    <tr>\n",
              "      <th>2089</th>\n",
              "      <td>ESPN</td>\n",
              "      <td>4395</td>\n",
              "    </tr>\n",
              "    <tr>\n",
              "      <th>2673</th>\n",
              "      <td>Green Bay Packers</td>\n",
              "      <td>1095</td>\n",
              "    </tr>\n",
              "    <tr>\n",
              "      <th>4549</th>\n",
              "      <td>Milwaukee Bucks</td>\n",
              "      <td>6046</td>\n",
              "    </tr>\n",
              "    <tr>\n",
              "      <th>4689</th>\n",
              "      <td>NBA</td>\n",
              "      <td>10487</td>\n",
              "    </tr>\n",
              "    <tr>\n",
              "      <th>4696</th>\n",
              "      <td>NBA Brasil</td>\n",
              "      <td>1446</td>\n",
              "    </tr>\n",
              "    <tr>\n",
              "      <th>4720</th>\n",
              "      <td>NBA TV</td>\n",
              "      <td>6109</td>\n",
              "    </tr>\n",
              "    <tr>\n",
              "      <th>4734</th>\n",
              "      <td>NBA on TNT</td>\n",
              "      <td>3549</td>\n",
              "    </tr>\n",
              "    <tr>\n",
              "      <th>4759</th>\n",
              "      <td>NOTSportsCenter</td>\n",
              "      <td>1089</td>\n",
              "    </tr>\n",
              "    <tr>\n",
              "      <th>6131</th>\n",
              "      <td>SportsCenter</td>\n",
              "      <td>2588</td>\n",
              "    </tr>\n",
              "    <tr>\n",
              "      <th>6544</th>\n",
              "      <td>TheBillRussell</td>\n",
              "      <td>1411</td>\n",
              "    </tr>\n",
              "    <tr>\n",
              "      <th>7676</th>\n",
              "      <td>shannon sharpe</td>\n",
              "      <td>2086</td>\n",
              "    </tr>\n",
              "  </tbody>\n",
              "</table>\n",
              "</div>"
            ],
            "text/plain": [
              "     retweeted_status_user_name  weight\n",
              "1176                  Camisa 23    1977\n",
              "2089                       ESPN    4395\n",
              "2673          Green Bay Packers    1095\n",
              "4549            Milwaukee Bucks    6046\n",
              "4689                        NBA   10487\n",
              "4696                 NBA Brasil    1446\n",
              "4720                     NBA TV    6109\n",
              "4734                 NBA on TNT    3549\n",
              "4759            NOTSportsCenter    1089\n",
              "6131               SportsCenter    2588\n",
              "6544             TheBillRussell    1411\n",
              "7676             shannon sharpe    2086"
            ]
          },
          "metadata": {},
          "execution_count": 13
        }
      ]
    },
    {
      "cell_type": "code",
      "metadata": {
        "id": "kcWHorRrbcK-"
      },
      "source": [
        "#df[df['retweeted_status_user_name']=='Green Bay Packers']"
      ],
      "execution_count": null,
      "outputs": []
    },
    {
      "cell_type": "code",
      "metadata": {
        "id": "5jMX5zlYkOHx"
      },
      "source": [
        "lista=df1.retweeted_status_user_name.to_list()"
      ],
      "execution_count": null,
      "outputs": []
    },
    {
      "cell_type": "code",
      "metadata": {
        "colab": {
          "base_uri": "https://localhost:8080/"
        },
        "id": "Fk0BBBWRsFSK",
        "outputId": "b92960e2-3232-4e61-fabc-a438387927fe"
      },
      "source": [
        "lista"
      ],
      "execution_count": null,
      "outputs": [
        {
          "output_type": "execute_result",
          "data": {
            "text/plain": [
              "['Camisa 23',\n",
              " 'ESPN',\n",
              " 'Green Bay Packers',\n",
              " 'Milwaukee Bucks',\n",
              " 'NBA',\n",
              " 'NBA Brasil',\n",
              " 'NBA TV',\n",
              " 'NBA on TNT',\n",
              " 'NOTSportsCenter',\n",
              " 'SportsCenter',\n",
              " 'TheBillRussell',\n",
              " 'shannon sharpe']"
            ]
          },
          "metadata": {},
          "execution_count": 15
        }
      ]
    },
    {
      "cell_type": "code",
      "metadata": {
        "id": "yfxOmMwwsGIk"
      },
      "source": [
        "labels=[]\n",
        "for i in df.retweeted_status_user_name:\n",
        "  if i in lista:\n",
        "    labels.append(i)\n",
        "  else:\n",
        "    labels.append(' ')\n"
      ],
      "execution_count": null,
      "outputs": []
    },
    {
      "cell_type": "code",
      "metadata": {
        "id": "dDr6wJ-jseCa"
      },
      "source": [
        "labels = pd.Series(labels)\n",
        "df['labels']=labels"
      ],
      "execution_count": null,
      "outputs": []
    },
    {
      "cell_type": "code",
      "metadata": {
        "colab": {
          "base_uri": "https://localhost:8080/"
        },
        "id": "LAy6zO4hsiOh",
        "outputId": "579df6a4-a8bf-4d55-bccf-f8cc44ae7bbc"
      },
      "source": [
        "labels"
      ],
      "execution_count": null,
      "outputs": [
        {
          "output_type": "execute_result",
          "data": {
            "text/plain": [
              "0                       \n",
              "1                       \n",
              "2        Milwaukee Bucks\n",
              "3             NBA on TNT\n",
              "4                       \n",
              "              ...       \n",
              "79633    Milwaukee Bucks\n",
              "79634             NBA TV\n",
              "79635                   \n",
              "79636                   \n",
              "79637                   \n",
              "Length: 79638, dtype: object"
            ]
          },
          "metadata": {},
          "execution_count": 18
        }
      ]
    },
    {
      "cell_type": "code",
      "metadata": {
        "id": "tfuLbGWPveHz"
      },
      "source": [
        "df=df.drop(columns=['index'])"
      ],
      "execution_count": null,
      "outputs": []
    },
    {
      "cell_type": "code",
      "metadata": {
        "id": "ULSNzTfzwI-5"
      },
      "source": [
        "df=df.reset_index(drop=True)"
      ],
      "execution_count": null,
      "outputs": []
    },
    {
      "cell_type": "code",
      "metadata": {
        "colab": {
          "base_uri": "https://localhost:8080/",
          "height": 203
        },
        "id": "9AmBJ-ZiwXj2",
        "outputId": "3d8cf57b-44b1-4022-cfe6-1bb4a6adf084"
      },
      "source": [
        "df=df.rename(columns={'user.id_str':'source','user_id_ret':'target'})\n",
        "df['source']=df['source'].round(0).astype(int)\n",
        "df.head()"
      ],
      "execution_count": null,
      "outputs": [
        {
          "output_type": "execute_result",
          "data": {
            "text/html": [
              "<div>\n",
              "<style scoped>\n",
              "    .dataframe tbody tr th:only-of-type {\n",
              "        vertical-align: middle;\n",
              "    }\n",
              "\n",
              "    .dataframe tbody tr th {\n",
              "        vertical-align: top;\n",
              "    }\n",
              "\n",
              "    .dataframe thead th {\n",
              "        text-align: right;\n",
              "    }\n",
              "</style>\n",
              "<table border=\"1\" class=\"dataframe\">\n",
              "  <thead>\n",
              "    <tr style=\"text-align: right;\">\n",
              "      <th></th>\n",
              "      <th>source</th>\n",
              "      <th>screen_name</th>\n",
              "      <th>target</th>\n",
              "      <th>retweeted_status_user_name</th>\n",
              "      <th>weight</th>\n",
              "      <th>labels</th>\n",
              "    </tr>\n",
              "  </thead>\n",
              "  <tbody>\n",
              "    <tr>\n",
              "      <th>0</th>\n",
              "      <td>12225</td>\n",
              "      <td>satya</td>\n",
              "      <td>19085082</td>\n",
              "      <td>Bally Sports Wisconsin</td>\n",
              "      <td>1</td>\n",
              "      <td></td>\n",
              "    </tr>\n",
              "    <tr>\n",
              "      <th>1</th>\n",
              "      <td>20503</td>\n",
              "      <td>pageman</td>\n",
              "      <td>15053533</td>\n",
              "      <td>Mike De Sisti</td>\n",
              "      <td>1</td>\n",
              "      <td></td>\n",
              "    </tr>\n",
              "    <tr>\n",
              "      <th>2</th>\n",
              "      <td>20503</td>\n",
              "      <td>pageman</td>\n",
              "      <td>15900167</td>\n",
              "      <td>Milwaukee Bucks</td>\n",
              "      <td>1</td>\n",
              "      <td>Milwaukee Bucks</td>\n",
              "    </tr>\n",
              "    <tr>\n",
              "      <th>3</th>\n",
              "      <td>20503</td>\n",
              "      <td>pageman</td>\n",
              "      <td>22178780</td>\n",
              "      <td>NBA on TNT</td>\n",
              "      <td>1</td>\n",
              "      <td>NBA on TNT</td>\n",
              "    </tr>\n",
              "    <tr>\n",
              "      <th>4</th>\n",
              "      <td>20503</td>\n",
              "      <td>pageman</td>\n",
              "      <td>366781966</td>\n",
              "      <td>Lily Zhao</td>\n",
              "      <td>1</td>\n",
              "      <td></td>\n",
              "    </tr>\n",
              "  </tbody>\n",
              "</table>\n",
              "</div>"
            ],
            "text/plain": [
              "   source screen_name  ...  weight           labels\n",
              "0   12225       satya  ...       1                 \n",
              "1   20503     pageman  ...       1                 \n",
              "2   20503     pageman  ...       1  Milwaukee Bucks\n",
              "3   20503     pageman  ...       1       NBA on TNT\n",
              "4   20503     pageman  ...       1                 \n",
              "\n",
              "[5 rows x 6 columns]"
            ]
          },
          "metadata": {},
          "execution_count": 21
        }
      ]
    },
    {
      "cell_type": "code",
      "metadata": {
        "colab": {
          "base_uri": "https://localhost:8080/",
          "height": 49
        },
        "id": "ze3o4xc_HKra",
        "outputId": "5f78e235-ace8-4827-a8f5-ccf44b1d7173"
      },
      "source": [
        "df[df['target']=='2279776304']"
      ],
      "execution_count": null,
      "outputs": [
        {
          "output_type": "execute_result",
          "data": {
            "text/html": [
              "<div>\n",
              "<style scoped>\n",
              "    .dataframe tbody tr th:only-of-type {\n",
              "        vertical-align: middle;\n",
              "    }\n",
              "\n",
              "    .dataframe tbody tr th {\n",
              "        vertical-align: top;\n",
              "    }\n",
              "\n",
              "    .dataframe thead th {\n",
              "        text-align: right;\n",
              "    }\n",
              "</style>\n",
              "<table border=\"1\" class=\"dataframe\">\n",
              "  <thead>\n",
              "    <tr style=\"text-align: right;\">\n",
              "      <th></th>\n",
              "      <th>source</th>\n",
              "      <th>screen_name</th>\n",
              "      <th>target</th>\n",
              "      <th>retweeted_status_user_name</th>\n",
              "      <th>weight</th>\n",
              "      <th>labels</th>\n",
              "    </tr>\n",
              "  </thead>\n",
              "  <tbody>\n",
              "  </tbody>\n",
              "</table>\n",
              "</div>"
            ],
            "text/plain": [
              "Empty DataFrame\n",
              "Columns: [source, screen_name, target, retweeted_status_user_name, weight, labels]\n",
              "Index: []"
            ]
          },
          "metadata": {
            "tags": []
          },
          "execution_count": 46
        }
      ]
    },
    {
      "cell_type": "code",
      "metadata": {
        "id": "WXGDuvzjHidP"
      },
      "source": [
        ""
      ],
      "execution_count": null,
      "outputs": []
    },
    {
      "cell_type": "code",
      "metadata": {
        "id": "Cu1wWUUEHigA"
      },
      "source": [
        ""
      ],
      "execution_count": null,
      "outputs": []
    },
    {
      "cell_type": "code",
      "metadata": {
        "id": "QqKEWbN8djEM"
      },
      "source": [
        "df['source'] = df['source'].astype('|S80')\n",
        "df['target'] = df['target'].astype('|S80')"
      ],
      "execution_count": null,
      "outputs": []
    },
    {
      "cell_type": "code",
      "metadata": {
        "colab": {
          "base_uri": "https://localhost:8080/",
          "height": 34
        },
        "id": "k14KpL9JwYub",
        "outputId": "1c0193a5-28de-4b76-ed98-eeafae30606c"
      },
      "source": [
        "from google.colab import files\n",
        "df.to_csv('Dataset_Gephi_retweet.csv')\n",
        "files.download('Dataset_Gephi_retweet.csv')"
      ],
      "execution_count": null,
      "outputs": [
        {
          "output_type": "display_data",
          "data": {
            "application/javascript": [
              "\n",
              "    async function download(id, filename, size) {\n",
              "      if (!google.colab.kernel.accessAllowed) {\n",
              "        return;\n",
              "      }\n",
              "      const div = document.createElement('div');\n",
              "      const label = document.createElement('label');\n",
              "      label.textContent = `Downloading \"${filename}\": `;\n",
              "      div.appendChild(label);\n",
              "      const progress = document.createElement('progress');\n",
              "      progress.max = size;\n",
              "      div.appendChild(progress);\n",
              "      document.body.appendChild(div);\n",
              "\n",
              "      const buffers = [];\n",
              "      let downloaded = 0;\n",
              "\n",
              "      const channel = await google.colab.kernel.comms.open(id);\n",
              "      // Send a message to notify the kernel that we're ready.\n",
              "      channel.send({})\n",
              "\n",
              "      for await (const message of channel.messages) {\n",
              "        // Send a message to notify the kernel that we're ready.\n",
              "        channel.send({})\n",
              "        if (message.buffers) {\n",
              "          for (const buffer of message.buffers) {\n",
              "            buffers.push(buffer);\n",
              "            downloaded += buffer.byteLength;\n",
              "            progress.value = downloaded;\n",
              "          }\n",
              "        }\n",
              "      }\n",
              "      const blob = new Blob(buffers, {type: 'application/binary'});\n",
              "      const a = document.createElement('a');\n",
              "      a.href = window.URL.createObjectURL(blob);\n",
              "      a.download = filename;\n",
              "      div.appendChild(a);\n",
              "      a.click();\n",
              "      div.remove();\n",
              "    }\n",
              "  "
            ],
            "text/plain": [
              "<IPython.core.display.Javascript object>"
            ]
          },
          "metadata": {}
        },
        {
          "output_type": "display_data",
          "data": {
            "application/javascript": [
              "download(\"download_f94fe11d-92ee-44f7-bc5c-3dfbecd54eb2\", \"Dataset_Gephi_retweet.csv\", 5470260)"
            ],
            "text/plain": [
              "<IPython.core.display.Javascript object>"
            ]
          },
          "metadata": {}
        }
      ]
    },
    {
      "cell_type": "code",
      "metadata": {
        "colab": {
          "base_uri": "https://localhost:8080/"
        },
        "id": "hg0wgCCMwocz",
        "outputId": "43edfc68-f573-431e-9c2e-87e41a94723e"
      },
      "source": [
        "df.shape"
      ],
      "execution_count": null,
      "outputs": [
        {
          "output_type": "execute_result",
          "data": {
            "text/plain": [
              "(28676, 6)"
            ]
          },
          "metadata": {
            "tags": []
          },
          "execution_count": 191
        }
      ]
    }
  ]
}