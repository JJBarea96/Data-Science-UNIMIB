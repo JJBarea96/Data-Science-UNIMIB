{
 "cells": [
  {
   "cell_type": "markdown",
   "id": "d90d003a",
   "metadata": {
    "id": "v9-doNgceCEA"
   },
   "source": [
    "## KAFKA SETUP"
   ]
  },
  {
   "cell_type": "code",
   "execution_count": 1,
   "id": "88d7e04c",
   "metadata": {
    "colab": {
     "base_uri": "https://localhost:8080/"
    },
    "id": "jMZqhKtHW28X",
    "outputId": "2a08de01-8e94-4c32-ca0f-a05461ca4049"
   },
   "outputs": [
    {
     "name": "stdout",
     "output_type": "stream",
     "text": [
      "Requirement already satisfied: kafka-python in /opt/conda/lib/python3.7/site-packages (2.0.2)\n"
     ]
    }
   ],
   "source": [
    "!pip install kafka-python\n",
    "import kafka\n",
    "import time"
   ]
  },
  {
   "cell_type": "markdown",
   "id": "82d661c3",
   "metadata": {
    "id": "iGCl03bQeNce"
   },
   "source": [
    "## MONGO SETUP"
   ]
  },
  {
   "cell_type": "code",
   "execution_count": 2,
   "id": "ab9d175c",
   "metadata": {
    "id": "UgsJAgBAelAr"
   },
   "outputs": [
    {
     "name": "stdout",
     "output_type": "stream",
     "text": [
      "Requirement already satisfied: pymongo in /opt/conda/lib/python3.7/site-packages (3.11.3)\n"
     ]
    }
   ],
   "source": [
    "!pip install pymongo\n",
    "import pymongo\n",
    "myclient = pymongo.MongoClient('mongo', 27017, username='admin', password='DataMan2019!')\n",
    "database = myclient[\"nba\"]\n",
    "collection = database[\"sunsbucks0\"]"
   ]
  },
  {
   "cell_type": "markdown",
   "id": "c03a1403",
   "metadata": {
    "id": "p4ACtPvHeQIv"
   },
   "source": [
    "## TWITTER API SETUP"
   ]
  },
  {
   "cell_type": "code",
   "execution_count": 3,
   "id": "57be33c8",
   "metadata": {
    "colab": {
     "base_uri": "https://localhost:8080/"
    },
    "id": "O9SJNXykeeJ6",
    "outputId": "b8b420dd-619d-4866-eaac-bbf19652283c"
   },
   "outputs": [
    {
     "name": "stdout",
     "output_type": "stream",
     "text": [
      "Requirement already satisfied: tweepy in /opt/conda/lib/python3.7/site-packages (3.10.0)\n",
      "Requirement already satisfied: requests[socks]>=2.11.1 in /opt/conda/lib/python3.7/site-packages (from tweepy) (2.22.0)\n",
      "Requirement already satisfied: requests-oauthlib>=0.7.0 in /opt/conda/lib/python3.7/site-packages (from tweepy) (1.3.0)\n",
      "Requirement already satisfied: six>=1.10.0 in /opt/conda/lib/python3.7/site-packages (from tweepy) (1.12.0)\n",
      "Requirement already satisfied: idna<2.9,>=2.5 in /opt/conda/lib/python3.7/site-packages (from requests[socks]>=2.11.1->tweepy) (2.8)\n",
      "Requirement already satisfied: certifi>=2017.4.17 in /opt/conda/lib/python3.7/site-packages (from requests[socks]>=2.11.1->tweepy) (2019.6.16)\n",
      "Requirement already satisfied: urllib3!=1.25.0,!=1.25.1,<1.26,>=1.21.1 in /opt/conda/lib/python3.7/site-packages (from requests[socks]>=2.11.1->tweepy) (1.25.3)\n",
      "Requirement already satisfied: chardet<3.1.0,>=3.0.2 in /opt/conda/lib/python3.7/site-packages (from requests[socks]>=2.11.1->tweepy) (3.0.4)\n",
      "Requirement already satisfied: PySocks!=1.5.7,>=1.5.6; extra == \"socks\" in /opt/conda/lib/python3.7/site-packages (from requests[socks]>=2.11.1->tweepy) (1.7.0)\n",
      "Requirement already satisfied: oauthlib>=3.0.0 in /opt/conda/lib/python3.7/site-packages (from requests-oauthlib>=0.7.0->tweepy) (3.0.1)\n",
      "#LERCIOSTORY Si rasano per solidarietà con amico malato di cancro, ma era diventato ultrà della Lazio… https://t.co/r2y8HTp42V\n"
     ]
    }
   ],
   "source": [
    "!pip install tweepy\n",
    "import tweepy\n",
    "\n",
    "# outputs the api\n",
    "def twitter_connect():\n",
    "    \n",
    "    # Set consumer key, consumer secret, access token and access token secret\n",
    "    # Read them from your Twitter dev page\n",
    "    consumer_key = \"C9yF34rMp0srBjvnitisAm08f\"\n",
    "    consumer_secret = \"wWq2KOtWZYZfM48kL9dX31YFjhofZwgGGcf1vaekbGyhzqg7Z1\"\n",
    "    access_token = \"1304145794149355521-Yj69Z6xVbbdgCLTWEIGpzuzBAeWeCj\"\n",
    "    access_token_secret = \"u4zDDvDVDSpDbYY0SGE2lldb0o8dmnrEkePxvI3k15GHt\"\n",
    "\n",
    "    # Authenticate with the OAuth protocol\n",
    "    # See: https://en.wikipedia.org/wiki/OAuth\n",
    "    auth = tweepy.OAuthHandler(consumer_key, consumer_secret)\n",
    "    auth.set_access_token(access_token, access_token_secret)\n",
    "\n",
    "    # Get the API object passing the authentication object\n",
    "    # See http://docs.tweepy.org/en/latest/api.html to discover the available methods\n",
    "    api = tweepy.API(auth, wait_on_rate_limit=True)\n",
    "    return api\n",
    "\n",
    "api = twitter_connect()\n",
    "\n",
    "# check connection\n",
    "print(api.home_timeline(count=1)[0].text)"
   ]
  },
  {
   "cell_type": "markdown",
   "id": "2233268f",
   "metadata": {
    "id": "wdFyJ-XGgLC5"
   },
   "source": [
    "## STREAMING TWEETS TO KAFKA"
   ]
  },
  {
   "cell_type": "code",
   "execution_count": 4,
   "id": "c3c25f42",
   "metadata": {
    "id": "jfTwnom-gPl3"
   },
   "outputs": [],
   "source": [
    "from datetime import datetime, timedelta\n",
    "\n",
    "def normalize_timestamp(time):\n",
    "    mytime = datetime.strptime(time, \"%Y-%m-%d %H:%M:%S\")\n",
    "    mytime += timedelta(hours=2)   # the tweets are timestamped in GMT timezone, while I am in +2 timezone\n",
    "    return (mytime.strftime(\"%Y-%m-%d %H:%M:%S\"))\n",
    "\n",
    "import json\n",
    "\n",
    "# create kafka producer\n",
    "producer = kafka.KafkaProducer(bootstrap_servers=['kafka:9092'], value_serializer=lambda v: json.dumps(v).encode(\"utf-8\"))\n",
    "# connecting stream to kafka\n",
    "class KafkaStreamListener(tweepy.streaming.StreamListener):\n",
    "        \n",
    "    def __init__(self, time_limit=10):\n",
    "        self.start_time=time.time()\n",
    "        self.limit = time_limit\n",
    "        super(KafkaStreamListener, self).__init__() \n",
    "        \n",
    "    def on_status(self, status):\n",
    "        try:\n",
    "            #print(status.retweeted_status.user.name)\n",
    "            producer.send('sunsbucks0', value={'id': status.id_str,\n",
    "                                        'user_location':status.user.location,\n",
    "                                        'language':status.lang,\n",
    "                                        'timestamp':normalize_timestamp(str(status.created_at)),\n",
    "                                        'text':status.text,\n",
    "                                        'retweet_count':status.retweet_count,\n",
    "                                        'user_followers':status.user.followers_count,\n",
    "                                        'geo':status.geo,\n",
    "                                        'coordinates':status.coordinates,\n",
    "                                        'retweeted':status.retweeted,\n",
    "                                        'is_a_retweet': str(x),\n",
    "                                        'user_mentions':status.entities['user_mentions'],\n",
    "                                        'entities_hashtags':status.entities['hashtags'],\n",
    "                                        'in_reply_to_status_id_str':status.in_reply_to_status_id_str,\n",
    "                                        'in_reply_to_user_id_str':status.in_reply_to_user_id_str,\n",
    "                                        'retweeted_status_id':status.retweeted_status.id_str,\n",
    "                                        'retweeted_status__user_id':status.retweeted_status.user.id_str,\n",
    "                                        'retweeted_status_user_name':status.retweeted_status.user.name,\n",
    "                                        'id_str':status.user.id_str,\n",
    "                                        'screen_name':status.user.screen_name})\n",
    "        except:\n",
    "            producer.send('sunsbucks0', value={'id': status.id_str,\n",
    "                                        'user_location':status.user.location,\n",
    "                                        'language':status.lang,\n",
    "                                        'timestamp':normalize_timestamp(str(status.created_at)),\n",
    "                                        'text':status.text,\n",
    "                                        'retweet_count':status.retweet_count,\n",
    "                                        'user_followers':status.user.followers_count,\n",
    "                                        'geo':status.geo,\n",
    "                                        'coordinates':status.coordinates,\n",
    "                                        'retweeted':status.retweeted,\n",
    "                                        'is_a_retweet': str(x),\n",
    "                                        'user_mentions':status.entities['user_mentions'],\n",
    "                                        'entities_hashtags':status.entities['hashtags'],\n",
    "                                        'in_reply_to_status_id_str':status.in_reply_to_status_id_str,\n",
    "                                        'in_reply_to_user_id_str':status.in_reply_to_user_id_str,\n",
    "                                        'id_str':status.user.id_str,\n",
    "                                        'screen_name':status.user.screen_name})\n",
    "      \n",
    "# connecting kafka to mongo      \n",
    "consumer = kafka.KafkaConsumer(\"sunsbucks0\", bootstrap_servers=['kafka:9092'], auto_offset_reset='earliest', \n",
    "                               value_deserializer=lambda x: json.loads(x.decode('utf-8')))"
   ]
  },
  {
   "cell_type": "code",
   "execution_count": 5,
   "id": "ad71ab41",
   "metadata": {
    "id": "JVnxMrvMzroN"
   },
   "outputs": [
    {
     "name": "stderr",
     "output_type": "stream",
     "text": [
      "11:50:03: Main    : before creating threads\n",
      "11:50:03: Main    : before running thread\n",
      "11:50:03: producer thread: starting\n",
      "11:50:03: consumer thread: starting\n"
     ]
    }
   ],
   "source": [
    "# threading\n",
    "\n",
    "import logging\n",
    "import threading\n",
    "import time\n",
    "\n",
    "# just a handy formatting of the logs\n",
    "format = \"%(asctime)s: %(message)s\"\n",
    "logging.basicConfig(format=format, level=logging.INFO, datefmt=\"%H:%M:%S\")\n",
    "\n",
    "def producer_function():\n",
    "    while True:\n",
    "        logging.info(f'producer thread: starting')\n",
    "        stream = tweepy.Stream(api.auth, listener=KafkaStreamListener())\n",
    "        stream.filter(track=['#NBAFinals', '#FearTheDeer', '#RallyTheValley', '#Suns', '#Bucks'])\n",
    "        logging.info(f'producer thread: exception') # to show this line the sleep should be here not on main thread\n",
    "\n",
    "def consumer_function():\n",
    "    while True:\n",
    "        logging.info(f'consumer thread: starting')\n",
    "        for message in consumer:\n",
    "            collection.insert_one(message.value)\n",
    "        logging.info(f'consumer thread: exception') # to show this line the sleep should be here not on main thread\n",
    "\n",
    "logging.info(\"Main    : before creating threads\")\n",
    "x = threading.Thread(target=producer_function)\n",
    "y = threading.Thread(target=consumer_function)\n",
    "logging.info(\"Main    : before running thread\")\n",
    "x.start()\n",
    "y.start()"
   ]
  },
  {
   "cell_type": "code",
   "execution_count": 6,
   "id": "9c7d8412",
   "metadata": {
    "id": "tz82en5Q571L"
   },
   "outputs": [
    {
     "name": "stderr",
     "output_type": "stream",
     "text": [
      "11:50:03: Updated partition assignment: [TopicPartition(topic='sunsbucks0', partition=0)]\n",
      "11:50:03: <BrokerConnection node_id=1001 host=e1c8653d4ed9:9092 <connecting> [IPv4 ('172.18.0.5', 9092)]>: connecting to e1c8653d4ed9:9092 [('172.18.0.5', 9092) IPv4]\n",
      "11:50:03: <BrokerConnection node_id=1001 host=e1c8653d4ed9:9092 <connecting> [IPv4 ('172.18.0.5', 9092)]>: Connection complete.\n",
      "11:50:03: <BrokerConnection node_id=bootstrap-0 host=kafka:9092 <connected> [IPv4 ('172.18.0.5', 9092)]>: Closing connection. \n"
     ]
    },
    {
     "data": {
      "text/plain": [
       "1573"
      ]
     },
     "execution_count": 6,
     "metadata": {},
     "output_type": "execute_result"
    }
   ],
   "source": [
    "# check if mongo received data\n",
    "import sys\n",
    "docs = list(myclient.nba.sunsbucks0.find())\n",
    "len(docs)\n",
    "#docs[-1]"
   ]
  },
  {
   "cell_type": "code",
   "execution_count": 7,
   "id": "ac19c5be",
   "metadata": {
    "id": "V4M_GBwwZKDT"
   },
   "outputs": [
    {
     "name": "stderr",
     "output_type": "stream",
     "text": [
      "11:50:05: <BrokerConnection node_id=1001 host=e1c8653d4ed9:9092 <connecting> [IPv4 ('172.18.0.5', 9092)]>: connecting to e1c8653d4ed9:9092 [('172.18.0.5', 9092) IPv4]\n",
      "11:50:05: <BrokerConnection node_id=1001 host=e1c8653d4ed9:9092 <connecting> [IPv4 ('172.18.0.5', 9092)]>: Connection complete.\n",
      "11:50:05: <BrokerConnection node_id=bootstrap-0 host=kafka:9092 <connected> [IPv4 ('172.18.0.5', 9092)]>: Closing connection. \n"
     ]
    },
    {
     "data": {
      "text/html": [
       "<div>\n",
       "<style scoped>\n",
       "    .dataframe tbody tr th:only-of-type {\n",
       "        vertical-align: middle;\n",
       "    }\n",
       "\n",
       "    .dataframe tbody tr th {\n",
       "        vertical-align: top;\n",
       "    }\n",
       "\n",
       "    .dataframe thead th {\n",
       "        text-align: right;\n",
       "    }\n",
       "</style>\n",
       "<table border=\"1\" class=\"dataframe\">\n",
       "  <thead>\n",
       "    <tr style=\"text-align: right;\">\n",
       "      <th></th>\n",
       "      <th>_id</th>\n",
       "      <th>id</th>\n",
       "      <th>user_location</th>\n",
       "      <th>language</th>\n",
       "      <th>timestamp</th>\n",
       "      <th>text</th>\n",
       "      <th>retweet_count</th>\n",
       "      <th>user_followers</th>\n",
       "      <th>geo</th>\n",
       "      <th>coordinates</th>\n",
       "      <th>...</th>\n",
       "      <th>is_a_retweet</th>\n",
       "      <th>user_mentions</th>\n",
       "      <th>entities_hashtags</th>\n",
       "      <th>in_reply_to_status_id_str</th>\n",
       "      <th>in_reply_to_user_id_str</th>\n",
       "      <th>retweeted_status_id</th>\n",
       "      <th>id_str</th>\n",
       "      <th>screen_name</th>\n",
       "      <th>retweeted_status__user_id</th>\n",
       "      <th>retweeted_status_user_name</th>\n",
       "    </tr>\n",
       "  </thead>\n",
       "  <tbody>\n",
       "    <tr>\n",
       "      <td>1568</td>\n",
       "      <td>60f6b82db614d8ed63e194a7</td>\n",
       "      <td>1417451455087202306</td>\n",
       "      <td>None</td>\n",
       "      <td>en</td>\n",
       "      <td>2021-07-20 13:48:56</td>\n",
       "      <td>#NBAFinals Match Prediction on #BSports!\\n\\n⚔️...</td>\n",
       "      <td>0</td>\n",
       "      <td>24468</td>\n",
       "      <td>None</td>\n",
       "      <td>None</td>\n",
       "      <td>...</td>\n",
       "      <td>&lt;Thread(Thread-5, started 140719684310784)&gt;</td>\n",
       "      <td>[]</td>\n",
       "      <td>[{'text': 'NBAFinals', 'indices': [0, 10]}, {'...</td>\n",
       "      <td>None</td>\n",
       "      <td>None</td>\n",
       "      <td>NaN</td>\n",
       "      <td>1353605510524637185</td>\n",
       "      <td>BSports_io</td>\n",
       "      <td>NaN</td>\n",
       "      <td>NaN</td>\n",
       "    </tr>\n",
       "    <tr>\n",
       "      <td>1569</td>\n",
       "      <td>60f6b836b614d8ed63e194a8</td>\n",
       "      <td>1417451493842690050</td>\n",
       "      <td>Wisconsin, USA</td>\n",
       "      <td>en</td>\n",
       "      <td>2021-07-20 13:49:05</td>\n",
       "      <td>RT @drdavemke: Good morning @Bucks fans. I thi...</td>\n",
       "      <td>0</td>\n",
       "      <td>63</td>\n",
       "      <td>None</td>\n",
       "      <td>None</td>\n",
       "      <td>...</td>\n",
       "      <td>&lt;Thread(Thread-5, started 140719684310784)&gt;</td>\n",
       "      <td>[{'screen_name': 'drdavemke', 'name': 'David M...</td>\n",
       "      <td>[]</td>\n",
       "      <td>None</td>\n",
       "      <td>None</td>\n",
       "      <td>1417427625346322434</td>\n",
       "      <td>630540817</td>\n",
       "      <td>btmotherbrain</td>\n",
       "      <td>3282825776</td>\n",
       "      <td>David Margolis</td>\n",
       "    </tr>\n",
       "    <tr>\n",
       "      <td>1570</td>\n",
       "      <td>60f6b839b614d8ed63e194a9</td>\n",
       "      <td>1417451503485394954</td>\n",
       "      <td>Milwaukee, WI</td>\n",
       "      <td>en</td>\n",
       "      <td>2021-07-20 13:49:08</td>\n",
       "      <td>RT @ESPNMilwaukee: Good morning #Bucks fans…it...</td>\n",
       "      <td>0</td>\n",
       "      <td>70</td>\n",
       "      <td>None</td>\n",
       "      <td>None</td>\n",
       "      <td>...</td>\n",
       "      <td>&lt;Thread(Thread-5, started 140719684310784)&gt;</td>\n",
       "      <td>[{'screen_name': 'ESPNMilwaukee', 'name': 'ESP...</td>\n",
       "      <td>[{'text': 'Bucks', 'indices': [32, 38]}, {'tex...</td>\n",
       "      <td>None</td>\n",
       "      <td>None</td>\n",
       "      <td>1417442493864480768</td>\n",
       "      <td>1382738758102044675</td>\n",
       "      <td>loving_mke</td>\n",
       "      <td>30797328</td>\n",
       "      <td>ESPN Milwaukee</td>\n",
       "    </tr>\n",
       "    <tr>\n",
       "      <td>1571</td>\n",
       "      <td>60f6b83ab614d8ed63e194aa</td>\n",
       "      <td>1417451508489129985</td>\n",
       "      <td>248 Tampa Ave Venice FL 34285</td>\n",
       "      <td>en</td>\n",
       "      <td>2021-07-20 13:49:09</td>\n",
       "      <td>NBA final jokes… @KingJames #nba #NBAFinals #N...</td>\n",
       "      <td>0</td>\n",
       "      <td>2169</td>\n",
       "      <td>None</td>\n",
       "      <td>None</td>\n",
       "      <td>...</td>\n",
       "      <td>&lt;Thread(Thread-5, started 140719684310784)&gt;</td>\n",
       "      <td>[{'screen_name': 'KingJames', 'name': 'LeBron ...</td>\n",
       "      <td>[{'text': 'nba', 'indices': [28, 32]}, {'text'...</td>\n",
       "      <td>None</td>\n",
       "      <td>None</td>\n",
       "      <td>NaN</td>\n",
       "      <td>1296576066706907136</td>\n",
       "      <td>ShellbackCBD</td>\n",
       "      <td>NaN</td>\n",
       "      <td>NaN</td>\n",
       "    </tr>\n",
       "    <tr>\n",
       "      <td>1572</td>\n",
       "      <td>60f6b84ab614d8ed63e194ab</td>\n",
       "      <td>1417451576906686480</td>\n",
       "      <td>New Jersey, USA</td>\n",
       "      <td>en</td>\n",
       "      <td>2021-07-20 13:49:25</td>\n",
       "      <td>Hell of a run we’re on right now guys\\n\\n15-4-...</td>\n",
       "      <td>0</td>\n",
       "      <td>1647</td>\n",
       "      <td>None</td>\n",
       "      <td>None</td>\n",
       "      <td>...</td>\n",
       "      <td>&lt;Thread(Thread-5, started 140719684310784)&gt;</td>\n",
       "      <td>[]</td>\n",
       "      <td>[{'text': 'MLB', 'indices': [87, 91]}, {'text'...</td>\n",
       "      <td>None</td>\n",
       "      <td>None</td>\n",
       "      <td>NaN</td>\n",
       "      <td>1006231903605751808</td>\n",
       "      <td>JFirestoneMPSC</td>\n",
       "      <td>NaN</td>\n",
       "      <td>NaN</td>\n",
       "    </tr>\n",
       "  </tbody>\n",
       "</table>\n",
       "<p>5 rows × 21 columns</p>\n",
       "</div>"
      ],
      "text/plain": [
       "                           _id                   id  \\\n",
       "1568  60f6b82db614d8ed63e194a7  1417451455087202306   \n",
       "1569  60f6b836b614d8ed63e194a8  1417451493842690050   \n",
       "1570  60f6b839b614d8ed63e194a9  1417451503485394954   \n",
       "1571  60f6b83ab614d8ed63e194aa  1417451508489129985   \n",
       "1572  60f6b84ab614d8ed63e194ab  1417451576906686480   \n",
       "\n",
       "                      user_location language            timestamp  \\\n",
       "1568                           None       en  2021-07-20 13:48:56   \n",
       "1569                 Wisconsin, USA       en  2021-07-20 13:49:05   \n",
       "1570                  Milwaukee, WI       en  2021-07-20 13:49:08   \n",
       "1571  248 Tampa Ave Venice FL 34285       en  2021-07-20 13:49:09   \n",
       "1572                New Jersey, USA       en  2021-07-20 13:49:25   \n",
       "\n",
       "                                                   text  retweet_count  \\\n",
       "1568  #NBAFinals Match Prediction on #BSports!\\n\\n⚔️...              0   \n",
       "1569  RT @drdavemke: Good morning @Bucks fans. I thi...              0   \n",
       "1570  RT @ESPNMilwaukee: Good morning #Bucks fans…it...              0   \n",
       "1571  NBA final jokes… @KingJames #nba #NBAFinals #N...              0   \n",
       "1572  Hell of a run we’re on right now guys\\n\\n15-4-...              0   \n",
       "\n",
       "      user_followers   geo coordinates  ...  \\\n",
       "1568           24468  None        None  ...   \n",
       "1569              63  None        None  ...   \n",
       "1570              70  None        None  ...   \n",
       "1571            2169  None        None  ...   \n",
       "1572            1647  None        None  ...   \n",
       "\n",
       "                                     is_a_retweet  \\\n",
       "1568  <Thread(Thread-5, started 140719684310784)>   \n",
       "1569  <Thread(Thread-5, started 140719684310784)>   \n",
       "1570  <Thread(Thread-5, started 140719684310784)>   \n",
       "1571  <Thread(Thread-5, started 140719684310784)>   \n",
       "1572  <Thread(Thread-5, started 140719684310784)>   \n",
       "\n",
       "                                          user_mentions  \\\n",
       "1568                                                 []   \n",
       "1569  [{'screen_name': 'drdavemke', 'name': 'David M...   \n",
       "1570  [{'screen_name': 'ESPNMilwaukee', 'name': 'ESP...   \n",
       "1571  [{'screen_name': 'KingJames', 'name': 'LeBron ...   \n",
       "1572                                                 []   \n",
       "\n",
       "                                      entities_hashtags  \\\n",
       "1568  [{'text': 'NBAFinals', 'indices': [0, 10]}, {'...   \n",
       "1569                                                 []   \n",
       "1570  [{'text': 'Bucks', 'indices': [32, 38]}, {'tex...   \n",
       "1571  [{'text': 'nba', 'indices': [28, 32]}, {'text'...   \n",
       "1572  [{'text': 'MLB', 'indices': [87, 91]}, {'text'...   \n",
       "\n",
       "     in_reply_to_status_id_str in_reply_to_user_id_str  retweeted_status_id  \\\n",
       "1568                      None                    None                  NaN   \n",
       "1569                      None                    None  1417427625346322434   \n",
       "1570                      None                    None  1417442493864480768   \n",
       "1571                      None                    None                  NaN   \n",
       "1572                      None                    None                  NaN   \n",
       "\n",
       "                   id_str     screen_name retweeted_status__user_id  \\\n",
       "1568  1353605510524637185      BSports_io                       NaN   \n",
       "1569            630540817   btmotherbrain                3282825776   \n",
       "1570  1382738758102044675      loving_mke                  30797328   \n",
       "1571  1296576066706907136    ShellbackCBD                       NaN   \n",
       "1572  1006231903605751808  JFirestoneMPSC                       NaN   \n",
       "\n",
       "     retweeted_status_user_name  \n",
       "1568                        NaN  \n",
       "1569             David Margolis  \n",
       "1570             ESPN Milwaukee  \n",
       "1571                        NaN  \n",
       "1572                        NaN  \n",
       "\n",
       "[5 rows x 21 columns]"
      ]
     },
     "execution_count": 7,
     "metadata": {},
     "output_type": "execute_result"
    }
   ],
   "source": [
    "import pandas\n",
    "docs = pandas.DataFrame(docs)\n",
    "docs.tail()"
   ]
  },
  {
   "cell_type": "code",
   "execution_count": 8,
   "id": "ed5e43be",
   "metadata": {
    "id": "_op3meE9a6Tk"
   },
   "outputs": [],
   "source": [
    "# save tweets as csv (just in case the pipeline had issues)\n",
    "docs.to_csv('suns-bucks-G6.csv')"
   ]
  }
 ],
 "metadata": {
  "colab": {
   "collapsed_sections": [
    "v9-doNgceCEA",
    "iGCl03bQeNce",
    "p4ACtPvHeQIv",
    "wdFyJ-XGgLC5"
   ],
   "name": "bitcoin-social-prediction.ipynb",
   "provenance": [],
   "toc_visible": true
  },
  "kernelspec": {
   "display_name": "Python 3",
   "language": "python",
   "name": "python3"
  },
  "language_info": {
   "codemirror_mode": {
    "name": "ipython",
    "version": 3
   },
   "file_extension": ".py",
   "mimetype": "text/x-python",
   "name": "python",
   "nbconvert_exporter": "python",
   "pygments_lexer": "ipython3",
   "version": "3.8.10"
  }
 },
 "nbformat": 4,
 "nbformat_minor": 5
}
