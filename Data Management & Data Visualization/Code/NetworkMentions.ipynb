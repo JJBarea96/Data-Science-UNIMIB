{
 "cells": [
  {
   "cell_type": "code",
   "execution_count": 1,
   "metadata": {
    "id": "9MtB9598s4Or"
   },
   "outputs": [],
   "source": [
    "import pandas as pd\n",
    "import networkx as nx\n",
    "import numpy as np"
   ]
  },
  {
   "cell_type": "code",
   "execution_count": null,
   "metadata": {
    "colab": {
     "base_uri": "https://localhost:8080/"
    },
    "executionInfo": {
     "elapsed": 21853,
     "status": "ok",
     "timestamp": 1630155989283,
     "user": {
      "displayName": "Davide Vercesi",
      "photoUrl": "",
      "userId": "18333951940652836391"
     },
     "user_tz": -120
    },
    "id": "bu1eH6PrF4Nc",
    "outputId": "d72d8739-daca-4d01-a1c8-69b955918e23"
   },
   "outputs": [
    {
     "name": "stdout",
     "output_type": "stream",
     "text": [
      "Mounted at /content/drive\n"
     ]
    }
   ],
   "source": [
    "from google.colab import drive\n",
    "drive.mount('/content/drive')"
   ]
  },
  {
   "cell_type": "code",
   "execution_count": null,
   "metadata": {
    "id": "xQ3Pcz5cFzkI"
   },
   "outputs": [],
   "source": [
    "data=pd.read_csv('drive/MyDrive/DM/SunsBucksClean.csv', sep=',', engine='python', error_bad_lines=False)"
   ]
  },
  {
   "cell_type": "code",
   "execution_count": 4,
   "metadata": {
    "colab": {
     "base_uri": "https://localhost:8080/"
    },
    "executionInfo": {
     "elapsed": 421,
     "status": "ok",
     "timestamp": 1630156290803,
     "user": {
      "displayName": "Davide Vercesi",
      "photoUrl": "",
      "userId": "18333951940652836391"
     },
     "user_tz": -120
    },
    "id": "_AuLSEXOEoAV",
    "outputId": "a00a9ed2-e3e3-4ede-ebf3-67c4cd72c3e0"
   },
   "outputs": [
    {
     "data": {
      "text/plain": [
       "(246239, 36)"
      ]
     },
     "execution_count": 4,
     "metadata": {},
     "output_type": "execute_result"
    }
   ],
   "source": [
    "data.shape"
   ]
  },
  {
   "cell_type": "code",
   "execution_count": 5,
   "metadata": {
    "id": "PNf8Rrk2GXAV"
   },
   "outputs": [],
   "source": [
    "data1=data.groupby(['user_mentions']).count().reset_index()"
   ]
  },
  {
   "cell_type": "code",
   "execution_count": 6,
   "metadata": {
    "colab": {
     "base_uri": "https://localhost:8080/"
    },
    "executionInfo": {
     "elapsed": 9,
     "status": "ok",
     "timestamp": 1630156291531,
     "user": {
      "displayName": "Davide Vercesi",
      "photoUrl": "",
      "userId": "18333951940652836391"
     },
     "user_tz": -120
    },
    "id": "5L571cqQEY9K",
    "outputId": "ee01a764-4779-4d92-860c-7540beb7ef71"
   },
   "outputs": [
    {
     "data": {
      "text/plain": [
       "(246239, 36)"
      ]
     },
     "execution_count": 6,
     "metadata": {},
     "output_type": "execute_result"
    }
   ],
   "source": [
    "data.shape"
   ]
  },
  {
   "cell_type": "code",
   "execution_count": 7,
   "metadata": {
    "id": "qxcf_zH0E94m"
   },
   "outputs": [],
   "source": [
    "# parte di estrazione attributi"
   ]
  },
  {
   "cell_type": "code",
   "execution_count": 8,
   "metadata": {
    "colab": {
     "base_uri": "https://localhost:8080/"
    },
    "executionInfo": {
     "elapsed": 16,
     "status": "ok",
     "timestamp": 1630156291943,
     "user": {
      "displayName": "Davide Vercesi",
      "photoUrl": "",
      "userId": "18333951940652836391"
     },
     "user_tz": -120
    },
    "id": "60outwgdtQeJ",
    "outputId": "d4742210-c166-4ad9-daab-70a300aaadda"
   },
   "outputs": [
    {
     "data": {
      "text/plain": [
       "80"
      ]
     },
     "execution_count": 8,
     "metadata": {},
     "output_type": "execute_result"
    }
   ],
   "source": [
    "data['user_mentions'][1].index('id_str')"
   ]
  },
  {
   "cell_type": "code",
   "execution_count": 9,
   "metadata": {
    "colab": {
     "base_uri": "https://localhost:8080/",
     "height": 35
    },
    "executionInfo": {
     "elapsed": 11,
     "status": "ok",
     "timestamp": 1630156292242,
     "user": {
      "displayName": "Davide Vercesi",
      "photoUrl": "",
      "userId": "18333951940652836391"
     },
     "user_tz": -120
    },
    "id": "0XY0mnChtQf5",
    "outputId": "a25392ae-cf33-4324-c96c-2830c5c217c3"
   },
   "outputs": [
    {
     "data": {
      "text/plain": [
       "'18144089'"
      ]
     },
     "execution_count": 9,
     "metadata": {},
     "output_type": "execute_result"
    }
   ],
   "source": [
    "data['user_mentions'][1][80:].split(',')[0][10:-1]"
   ]
  },
  {
   "cell_type": "code",
   "execution_count": 10,
   "metadata": {
    "colab": {
     "base_uri": "https://localhost:8080/"
    },
    "executionInfo": {
     "elapsed": 8,
     "status": "ok",
     "timestamp": 1630156292782,
     "user": {
      "displayName": "Davide Vercesi",
      "photoUrl": "",
      "userId": "18333951940652836391"
     },
     "user_tz": -120
    },
    "id": "6ehAJDPWEoC1",
    "outputId": "ff3ace40-0c99-4ead-b03e-5dedafd2e159"
   },
   "outputs": [
    {
     "data": {
      "text/plain": [
       "str"
      ]
     },
     "execution_count": 10,
     "metadata": {},
     "output_type": "execute_result"
    }
   ],
   "source": [
    "type(data['user_mentions'][1])"
   ]
  },
  {
   "cell_type": "code",
   "execution_count": null,
   "metadata": {
    "id": "e22-zXvzEoFv"
   },
   "outputs": [],
   "source": [
    "nome=[]\n",
    "for i in range(len(data.user_mentions)):\n",
    "  if type(data['user_mentions'][i]) == str:\n",
    "    if data['user_mentions'][i].find('id_str')!=-1:\n",
    "      indice=data['user_mentions'][i].index('id_str')\n",
    "      nome.append(data['user_mentions'][i][indice:].split(',')[0])\n",
    "    else:\n",
    "      nome.append('')\n",
    "  else:\n",
    "    nome.append('')"
   ]
  },
  {
   "cell_type": "code",
   "execution_count": null,
   "metadata": {
    "id": "iw_6XsG5EoK6"
   },
   "outputs": [],
   "source": [
    "nome_completo=[]\n",
    "for i in range(len(data.user_mentions)):\n",
    "  if type(data['user_mentions'][i]) == str:\n",
    "    if data['user_mentions'][i].find('screen_name')!=-1:\n",
    "      indice1=data['user_mentions'][i].index('screen_name')\n",
    "      nome_completo.append(data['user_mentions'][i][indice1:].split(',')[0])\n",
    "    else:\n",
    "      nome_completo.append('')\n",
    "  else:\n",
    "    nome_completo.append('')"
   ]
  },
  {
   "cell_type": "code",
   "execution_count": null,
   "metadata": {
    "colab": {
     "base_uri": "https://localhost:8080/",
     "height": 35
    },
    "executionInfo": {
     "elapsed": 27,
     "status": "ok",
     "timestamp": 1630156304419,
     "user": {
      "displayName": "Davide Vercesi",
      "photoUrl": "",
      "userId": "18333951940652836391"
     },
     "user_tz": -120
    },
    "id": "bu5jVwMsEoQI",
    "outputId": "ad53511c-f893-41ce-ce5a-a618d26f85ea"
   },
   "outputs": [
    {
     "data": {
      "application/vnd.google.colaboratory.intrinsic+json": {
       "type": "string"
      },
      "text/plain": [
       "\" 'Suns'\""
      ]
     },
     "execution_count": 62,
     "metadata": {},
     "output_type": "execute_result"
    }
   ],
   "source": [
    "nome_completo[0].split(':')[1]"
   ]
  },
  {
   "cell_type": "code",
   "execution_count": null,
   "metadata": {
    "id": "WuP-3vtsEoSt"
   },
   "outputs": [],
   "source": [
    "nome1=[]\n",
    "for i in range(len(nome)):\n",
    "  if nome[i] != '':\n",
    "\n",
    "   nome1.append(nome[i].split(':')[1])\n",
    "  else:\n",
    "    nome1.append('') "
   ]
  },
  {
   "cell_type": "code",
   "execution_count": null,
   "metadata": {
    "id": "3BTdISU6EoX7"
   },
   "outputs": [],
   "source": [
    "nome_completo1=[]\n",
    "for i in range(len(nome_completo)):\n",
    "  if nome_completo[i] != '':\n",
    "\n",
    "   nome_completo1.append(nome_completo[i].split(':')[1])\n",
    "  else:\n",
    "    nome_completo1.append('') "
   ]
  },
  {
   "cell_type": "code",
   "execution_count": null,
   "metadata": {
    "id": "RL5oR4jMMwox"
   },
   "outputs": [],
   "source": [
    "data['user_mentions_screen_name']=nome_completo1\n",
    "data['user_mentions_id']=nome1\n",
    "# ora ho i due attributi che mi servono"
   ]
  },
  {
   "cell_type": "code",
   "execution_count": null,
   "metadata": {
    "id": "dEhIUox73Zi8"
   },
   "outputs": [],
   "source": [
    "data=data[data['user_followers'] > 100] # numero minimo di follower per comparire nel grafo, per evitare bot"
   ]
  },
  {
   "cell_type": "code",
   "execution_count": null,
   "metadata": {
    "colab": {
     "base_uri": "https://localhost:8080/",
     "height": 576
    },
    "executionInfo": {
     "elapsed": 9,
     "status": "ok",
     "timestamp": 1630156305059,
     "user": {
      "displayName": "Davide Vercesi",
      "photoUrl": "",
      "userId": "18333951940652836391"
     },
     "user_tz": -120
    },
    "id": "l3YtAoaHNPJ8",
    "outputId": "7bbad928-105e-4af0-adaf-d39dc93d9dc5"
   },
   "outputs": [
    {
     "data": {
      "text/html": [
       "<div>\n",
       "<style scoped>\n",
       "    .dataframe tbody tr th:only-of-type {\n",
       "        vertical-align: middle;\n",
       "    }\n",
       "\n",
       "    .dataframe tbody tr th {\n",
       "        vertical-align: top;\n",
       "    }\n",
       "\n",
       "    .dataframe thead th {\n",
       "        text-align: right;\n",
       "    }\n",
       "</style>\n",
       "<table border=\"1\" class=\"dataframe\">\n",
       "  <thead>\n",
       "    <tr style=\"text-align: right;\">\n",
       "      <th></th>\n",
       "      <th>Unnamed: 0</th>\n",
       "      <th>Unnamed: 0.1</th>\n",
       "      <th>_id</th>\n",
       "      <th>id</th>\n",
       "      <th>user_location</th>\n",
       "      <th>language</th>\n",
       "      <th>timestamp</th>\n",
       "      <th>text</th>\n",
       "      <th>retweet_count</th>\n",
       "      <th>user_followers</th>\n",
       "      <th>geo</th>\n",
       "      <th>coordinates</th>\n",
       "      <th>retweeted</th>\n",
       "      <th>is_a_retweet</th>\n",
       "      <th>user_mentions</th>\n",
       "      <th>entities_hashtags</th>\n",
       "      <th>in_reply_to_status_id_str</th>\n",
       "      <th>in_reply_to_user_id_str</th>\n",
       "      <th>retweeted_status_id</th>\n",
       "      <th>retweeted_status__user_id</th>\n",
       "      <th>retweeted_status_user_name</th>\n",
       "      <th>id_str</th>\n",
       "      <th>screen_name</th>\n",
       "      <th>sentiment</th>\n",
       "      <th>compound</th>\n",
       "      <th>emotion</th>\n",
       "      <th>positive</th>\n",
       "      <th>anger</th>\n",
       "      <th>anticipation</th>\n",
       "      <th>trust</th>\n",
       "      <th>surprise</th>\n",
       "      <th>negative</th>\n",
       "      <th>sadness</th>\n",
       "      <th>disgust</th>\n",
       "      <th>joy</th>\n",
       "      <th>fear</th>\n",
       "      <th>user_mentions_screen_name</th>\n",
       "      <th>user_mentions_id</th>\n",
       "    </tr>\n",
       "  </thead>\n",
       "  <tbody>\n",
       "    <tr>\n",
       "      <th>0</th>\n",
       "      <td>0</td>\n",
       "      <td>0</td>\n",
       "      <td>60f74336b712538547cbf0fc</td>\n",
       "      <td>1417600743033360384</td>\n",
       "      <td>AZ</td>\n",
       "      <td>en</td>\n",
       "      <td>2021-07-20 23:42:09</td>\n",
       "      <td>suns 𝐍𝐁𝐀 𝐅𝐈𝐍𝐀𝐋𝐒 𝐆𝐀𝐌𝐄 𝟔 📺 abcnetwork youtubetv ...</td>\n",
       "      <td>0</td>\n",
       "      <td>1537</td>\n",
       "      <td>NaN</td>\n",
       "      <td>NaN</td>\n",
       "      <td>False</td>\n",
       "      <td>&lt;Thread(Thread-5, started 140013339797248)&gt;</td>\n",
       "      <td>[{'screen_name': 'Suns', 'name': 'Phoenix Suns...</td>\n",
       "      <td>[{'text': 'RallyTheValley', 'indices': [120, 1...</td>\n",
       "      <td>NaN</td>\n",
       "      <td>NaN</td>\n",
       "      <td>1.417543e+18</td>\n",
       "      <td>1.848111e+07</td>\n",
       "      <td>Phoenix Suns</td>\n",
       "      <td>1146370740</td>\n",
       "      <td>boi_guapo</td>\n",
       "      <td>{'neg': 0.0, 'neu': 0.784, 'pos': 0.216, 'comp...</td>\n",
       "      <td>0.5106</td>\n",
       "      <td>{'positive': None, 'anger': None, 'anticipatio...</td>\n",
       "      <td>0</td>\n",
       "      <td>0</td>\n",
       "      <td>0</td>\n",
       "      <td>0</td>\n",
       "      <td>0</td>\n",
       "      <td>0</td>\n",
       "      <td>0</td>\n",
       "      <td>0</td>\n",
       "      <td>0</td>\n",
       "      <td>0</td>\n",
       "      <td>'Suns'</td>\n",
       "      <td>'18481113'</td>\n",
       "    </tr>\n",
       "    <tr>\n",
       "      <th>1</th>\n",
       "      <td>1</td>\n",
       "      <td>1</td>\n",
       "      <td>60f74338b712538547cbf0fd</td>\n",
       "      <td>1417600749182365700</td>\n",
       "      <td>Stockholm, Sverige</td>\n",
       "      <td>en</td>\n",
       "      <td>2021-07-20 23:42:11</td>\n",
       "      <td>davidalangrier breaking news nba ref scott fos...</td>\n",
       "      <td>0</td>\n",
       "      <td>1036</td>\n",
       "      <td>NaN</td>\n",
       "      <td>NaN</td>\n",
       "      <td>False</td>\n",
       "      <td>&lt;Thread(Thread-5, started 140013339797248)&gt;</td>\n",
       "      <td>[{'screen_name': 'davidalangrier', 'name': 'Da...</td>\n",
       "      <td>[{'text': 'NBAFinals', 'indices': [120, 130]}]</td>\n",
       "      <td>NaN</td>\n",
       "      <td>NaN</td>\n",
       "      <td>1.417601e+18</td>\n",
       "      <td>1.814409e+07</td>\n",
       "      <td>David Alan Grier</td>\n",
       "      <td>1061255281341054977</td>\n",
       "      <td>Ahmedberhan1</td>\n",
       "      <td>{'neg': 0.0, 'neu': 1.0, 'pos': 0.0, 'compound...</td>\n",
       "      <td>0.0000</td>\n",
       "      <td>{'positive': None, 'anger': None, 'anticipatio...</td>\n",
       "      <td>0</td>\n",
       "      <td>0</td>\n",
       "      <td>0</td>\n",
       "      <td>0</td>\n",
       "      <td>0</td>\n",
       "      <td>0</td>\n",
       "      <td>0</td>\n",
       "      <td>0</td>\n",
       "      <td>0</td>\n",
       "      <td>0</td>\n",
       "      <td>'davidalangrier'</td>\n",
       "      <td>'18144089'</td>\n",
       "    </tr>\n",
       "    <tr>\n",
       "      <th>2</th>\n",
       "      <td>2</td>\n",
       "      <td>2</td>\n",
       "      <td>60f7433ab712538547cbf0fe</td>\n",
       "      <td>1417600757872959492</td>\n",
       "      <td>By the Rich People</td>\n",
       "      <td>en</td>\n",
       "      <td>2021-07-20 23:42:13</td>\n",
       "      <td>wildcardsps k streams‼️ supoers beginning than...</td>\n",
       "      <td>0</td>\n",
       "      <td>2485</td>\n",
       "      <td>NaN</td>\n",
       "      <td>NaN</td>\n",
       "      <td>False</td>\n",
       "      <td>&lt;Thread(Thread-5, started 140013339797248)&gt;</td>\n",
       "      <td>[{'screen_name': 'wildcardsprts', 'name': 'Wil...</td>\n",
       "      <td>[]</td>\n",
       "      <td>NaN</td>\n",
       "      <td>NaN</td>\n",
       "      <td>1.417596e+18</td>\n",
       "      <td>1.142281e+18</td>\n",
       "      <td>WildCard Sports</td>\n",
       "      <td>239012690</td>\n",
       "      <td>Pastor_KevyKev</td>\n",
       "      <td>{'neg': 0.0, 'neu': 0.8, 'pos': 0.2, 'compound...</td>\n",
       "      <td>0.3612</td>\n",
       "      <td>{'positive': None, 'anger': None, 'anticipatio...</td>\n",
       "      <td>0</td>\n",
       "      <td>0</td>\n",
       "      <td>0</td>\n",
       "      <td>0</td>\n",
       "      <td>0</td>\n",
       "      <td>0</td>\n",
       "      <td>0</td>\n",
       "      <td>0</td>\n",
       "      <td>0</td>\n",
       "      <td>0</td>\n",
       "      <td>'wildcardsprts'</td>\n",
       "      <td>'1142280818934583301'</td>\n",
       "    </tr>\n",
       "    <tr>\n",
       "      <th>3</th>\n",
       "      <td>3</td>\n",
       "      <td>3</td>\n",
       "      <td>60f7433bb712538547cbf0ff</td>\n",
       "      <td>1417600761500999681</td>\n",
       "      <td>Charlotte, NC</td>\n",
       "      <td>en</td>\n",
       "      <td>2021-07-20 23:42:13</td>\n",
       "      <td>many postit notes</td>\n",
       "      <td>0</td>\n",
       "      <td>174837</td>\n",
       "      <td>NaN</td>\n",
       "      <td>NaN</td>\n",
       "      <td>False</td>\n",
       "      <td>&lt;Thread(Thread-5, started 140013339797248)&gt;</td>\n",
       "      <td>[]</td>\n",
       "      <td>[]</td>\n",
       "      <td>NaN</td>\n",
       "      <td>NaN</td>\n",
       "      <td>NaN</td>\n",
       "      <td>NaN</td>\n",
       "      <td>NaN</td>\n",
       "      <td>21362008</td>\n",
       "      <td>tomhaberstroh</td>\n",
       "      <td>{'neg': 0.0, 'neu': 1.0, 'pos': 0.0, 'compound...</td>\n",
       "      <td>0.0000</td>\n",
       "      <td>{'positive': None, 'anger': None, 'anticipatio...</td>\n",
       "      <td>0</td>\n",
       "      <td>0</td>\n",
       "      <td>0</td>\n",
       "      <td>0</td>\n",
       "      <td>0</td>\n",
       "      <td>0</td>\n",
       "      <td>0</td>\n",
       "      <td>0</td>\n",
       "      <td>0</td>\n",
       "      <td>0</td>\n",
       "      <td></td>\n",
       "      <td></td>\n",
       "    </tr>\n",
       "    <tr>\n",
       "      <th>4</th>\n",
       "      <td>4</td>\n",
       "      <td>4</td>\n",
       "      <td>60f7433bb712538547cbf100</td>\n",
       "      <td>1417600763707154435</td>\n",
       "      <td>NaN</td>\n",
       "      <td>en</td>\n",
       "      <td>2021-07-20 23:42:14</td>\n",
       "      <td>johnypropz nba 🏀 july th ayton points like tai...</td>\n",
       "      <td>0</td>\n",
       "      <td>664</td>\n",
       "      <td>NaN</td>\n",
       "      <td>NaN</td>\n",
       "      <td>False</td>\n",
       "      <td>&lt;Thread(Thread-5, started 140013339797248)&gt;</td>\n",
       "      <td>[{'screen_name': 'JohnnyPropz', 'name': 'Johnn...</td>\n",
       "      <td>[{'text': 'BettingExpert', 'indices': [82, 96]...</td>\n",
       "      <td>NaN</td>\n",
       "      <td>NaN</td>\n",
       "      <td>1.417601e+18</td>\n",
       "      <td>1.356723e+18</td>\n",
       "      <td>Johnny Props</td>\n",
       "      <td>1281401105398796288</td>\n",
       "      <td>JohnnyLockz</td>\n",
       "      <td>{'neg': 0.0, 'neu': 0.815, 'pos': 0.185, 'comp...</td>\n",
       "      <td>0.3612</td>\n",
       "      <td>{'positive': None, 'anger': None, 'anticipatio...</td>\n",
       "      <td>0</td>\n",
       "      <td>0</td>\n",
       "      <td>0</td>\n",
       "      <td>0</td>\n",
       "      <td>0</td>\n",
       "      <td>0</td>\n",
       "      <td>0</td>\n",
       "      <td>0</td>\n",
       "      <td>0</td>\n",
       "      <td>0</td>\n",
       "      <td>'JohnnyPropz'</td>\n",
       "      <td>'1356722543995068416'</td>\n",
       "    </tr>\n",
       "  </tbody>\n",
       "</table>\n",
       "</div>"
      ],
      "text/plain": [
       "   Unnamed: 0  Unnamed: 0.1  ... user_mentions_screen_name        user_mentions_id\n",
       "0           0             0  ...                    'Suns'              '18481113'\n",
       "1           1             1  ...          'davidalangrier'              '18144089'\n",
       "2           2             2  ...           'wildcardsprts'   '1142280818934583301'\n",
       "3           3             3  ...                                                  \n",
       "4           4             4  ...             'JohnnyPropz'   '1356722543995068416'\n",
       "\n",
       "[5 rows x 38 columns]"
      ]
     },
     "execution_count": 67,
     "metadata": {},
     "output_type": "execute_result"
    }
   ],
   "source": [
    "data.head()"
   ]
  },
  {
   "cell_type": "code",
   "execution_count": null,
   "metadata": {
    "id": "kjF8pZAzNQWL"
   },
   "outputs": [],
   "source": [
    "df=data[['id_str','screen_name','user_mentions_id','user_mentions_screen_name','user_followers','text']]\n"
   ]
  },
  {
   "cell_type": "code",
   "execution_count": null,
   "metadata": {
    "colab": {
     "base_uri": "https://localhost:8080/",
     "height": 417
    },
    "executionInfo": {
     "elapsed": 1392,
     "status": "ok",
     "timestamp": 1630156306444,
     "user": {
      "displayName": "Davide Vercesi",
      "photoUrl": "",
      "userId": "18333951940652836391"
     },
     "user_tz": -120
    },
    "id": "SW83X3zmfU9E",
    "outputId": "c661f949-5184-419d-cae1-da65912c3186"
   },
   "outputs": [
    {
     "data": {
      "text/html": [
       "<div>\n",
       "<style scoped>\n",
       "    .dataframe tbody tr th:only-of-type {\n",
       "        vertical-align: middle;\n",
       "    }\n",
       "\n",
       "    .dataframe tbody tr th {\n",
       "        vertical-align: top;\n",
       "    }\n",
       "\n",
       "    .dataframe thead th {\n",
       "        text-align: right;\n",
       "    }\n",
       "</style>\n",
       "<table border=\"1\" class=\"dataframe\">\n",
       "  <thead>\n",
       "    <tr style=\"text-align: right;\">\n",
       "      <th></th>\n",
       "      <th>index</th>\n",
       "      <th>user.id_str</th>\n",
       "      <th>screen_name</th>\n",
       "      <th>user_id_ret</th>\n",
       "      <th>user_mentions_screen_name</th>\n",
       "      <th>user_followers</th>\n",
       "      <th>text</th>\n",
       "      <th>weight</th>\n",
       "    </tr>\n",
       "  </thead>\n",
       "  <tbody>\n",
       "    <tr>\n",
       "      <th>0</th>\n",
       "      <td>0</td>\n",
       "      <td>422</td>\n",
       "      <td>shellen</td>\n",
       "      <td>'2279776304'</td>\n",
       "      <td>'Giannis_An34'</td>\n",
       "      <td>26123</td>\n",
       "      <td>nice work gianisan bucks feaheder</td>\n",
       "      <td>1</td>\n",
       "    </tr>\n",
       "    <tr>\n",
       "      <th>1</th>\n",
       "      <td>1</td>\n",
       "      <td>874</td>\n",
       "      <td>waynesutton</td>\n",
       "      <td></td>\n",
       "      <td></td>\n",
       "      <td>70233</td>\n",
       "      <td>🧐 thoughts</td>\n",
       "      <td>1</td>\n",
       "    </tr>\n",
       "    <tr>\n",
       "      <th>2</th>\n",
       "      <td>2</td>\n",
       "      <td>874</td>\n",
       "      <td>waynesutton</td>\n",
       "      <td></td>\n",
       "      <td></td>\n",
       "      <td>70235</td>\n",
       "      <td>bucks nbafinals</td>\n",
       "      <td>1</td>\n",
       "    </tr>\n",
       "    <tr>\n",
       "      <th>3</th>\n",
       "      <td>3</td>\n",
       "      <td>874</td>\n",
       "      <td>waynesutton</td>\n",
       "      <td>'15900167'</td>\n",
       "      <td>'Bucks'</td>\n",
       "      <td>70232</td>\n",
       "      <td>bucks</td>\n",
       "      <td>1</td>\n",
       "    </tr>\n",
       "    <tr>\n",
       "      <th>4</th>\n",
       "      <td>4</td>\n",
       "      <td>874</td>\n",
       "      <td>waynesutton</td>\n",
       "      <td>'18481113'</td>\n",
       "      <td>'Suns'</td>\n",
       "      <td>70232</td>\n",
       "      <td>realized going suns coach monty williams team ...</td>\n",
       "      <td>1</td>\n",
       "    </tr>\n",
       "    <tr>\n",
       "      <th>...</th>\n",
       "      <td>...</td>\n",
       "      <td>...</td>\n",
       "      <td>...</td>\n",
       "      <td>...</td>\n",
       "      <td>...</td>\n",
       "      <td>...</td>\n",
       "      <td>...</td>\n",
       "      <td>...</td>\n",
       "    </tr>\n",
       "    <tr>\n",
       "      <th>183409</th>\n",
       "      <td>183409</td>\n",
       "      <td>1417583932934135813</td>\n",
       "      <td>KhashIn6ix</td>\n",
       "      <td>'15900167'</td>\n",
       "      <td>'Bucks'</td>\n",
       "      <td>147</td>\n",
       "      <td>bucks backs wall multiple times absolutely loo...</td>\n",
       "      <td>1</td>\n",
       "    </tr>\n",
       "    <tr>\n",
       "      <th>183410</th>\n",
       "      <td>183410</td>\n",
       "      <td>1417583932934135813</td>\n",
       "      <td>KhashIn6ix</td>\n",
       "      <td>'15900167'</td>\n",
       "      <td>'Bucks'</td>\n",
       "      <td>147</td>\n",
       "      <td>bucks dogs dogs man motorolaus feaheder</td>\n",
       "      <td>1</td>\n",
       "    </tr>\n",
       "    <tr>\n",
       "      <th>183411</th>\n",
       "      <td>183411</td>\n",
       "      <td>1417583932934135813</td>\n",
       "      <td>KhashIn6ix</td>\n",
       "      <td>'172580748'</td>\n",
       "      <td>'OldTakesExposed'</td>\n",
       "      <td>145</td>\n",
       "      <td>oldtakesexposed feaheder nbaplayofs</td>\n",
       "      <td>1</td>\n",
       "    </tr>\n",
       "    <tr>\n",
       "      <th>183412</th>\n",
       "      <td>183412</td>\n",
       "      <td>1417583932934135813</td>\n",
       "      <td>KhashIn6ix</td>\n",
       "      <td>'25319414'</td>\n",
       "      <td>'NBATV'</td>\n",
       "      <td>144</td>\n",
       "      <td>nbatv gianis ’ resume stacked 🔥 nbafinals</td>\n",
       "      <td>1</td>\n",
       "    </tr>\n",
       "    <tr>\n",
       "      <th>183413</th>\n",
       "      <td>183413</td>\n",
       "      <td>1417583932934135813</td>\n",
       "      <td>KhashIn6ix</td>\n",
       "      <td>'52824038'</td>\n",
       "      <td>'Brewers'</td>\n",
       "      <td>129</td>\n",
       "      <td>brewers ryan braun says bucks six feaheder x t...</td>\n",
       "      <td>1</td>\n",
       "    </tr>\n",
       "  </tbody>\n",
       "</table>\n",
       "<p>183414 rows × 8 columns</p>\n",
       "</div>"
      ],
      "text/plain": [
       "         index  ...  weight\n",
       "0            0  ...       1\n",
       "1            1  ...       1\n",
       "2            2  ...       1\n",
       "3            3  ...       1\n",
       "4            4  ...       1\n",
       "...        ...  ...     ...\n",
       "183409  183409  ...       1\n",
       "183410  183410  ...       1\n",
       "183411  183411  ...       1\n",
       "183412  183412  ...       1\n",
       "183413  183413  ...       1\n",
       "\n",
       "[183414 rows x 8 columns]"
      ]
     },
     "execution_count": 69,
     "metadata": {},
     "output_type": "execute_result"
    }
   ],
   "source": [
    "df=df.groupby(df.columns.tolist(),as_index=False).size().reset_index()\n",
    "#df.columns=['id_str','retweeted_status__user_id','weight']\n",
    "#df=df.drop(' index')\n",
    "df=df.rename(columns={'id_str':'user.id_str','user_mentions_id':'user_id_ret','size':'weight'})\n",
    "df"
   ]
  },
  {
   "cell_type": "code",
   "execution_count": null,
   "metadata": {
    "id": "ia8bLUtUfU_4"
   },
   "outputs": [],
   "source": [
    "df1=df.groupby('user_mentions_screen_name')['weight'].sum().reset_index()"
   ]
  },
  {
   "cell_type": "code",
   "execution_count": null,
   "metadata": {
    "id": "9uhINUk0fVCr"
   },
   "outputs": [],
   "source": [
    "df1=df1[df1['weight'] > 1000] # numero minimo di menzioni totali per avere la label nel grafo"
   ]
  },
  {
   "cell_type": "code",
   "execution_count": null,
   "metadata": {
    "id": "QXN0NE3efVFf"
   },
   "outputs": [],
   "source": [
    "df1=df1.drop(0)"
   ]
  },
  {
   "cell_type": "code",
   "execution_count": null,
   "metadata": {
    "colab": {
     "base_uri": "https://localhost:8080/"
    },
    "executionInfo": {
     "elapsed": 10,
     "status": "ok",
     "timestamp": 1630156426468,
     "user": {
      "displayName": "Davide Vercesi",
      "photoUrl": "",
      "userId": "18333951940652836391"
     },
     "user_tz": -120
    },
    "id": "mx6QBMEe46fO",
    "outputId": "87b9f6a0-6f59-4aa8-f357-0e7ba8d64507"
   },
   "outputs": [
    {
     "data": {
      "text/plain": [
       "14"
      ]
     },
     "execution_count": 82,
     "metadata": {},
     "output_type": "execute_result"
    }
   ],
   "source": [
    "len(df1)"
   ]
  },
  {
   "cell_type": "code",
   "execution_count": null,
   "metadata": {
    "id": "vAfOrHwCfVHt"
   },
   "outputs": [],
   "source": [
    "lista=df1.user_mentions_screen_name.to_list()"
   ]
  },
  {
   "cell_type": "code",
   "execution_count": null,
   "metadata": {
    "id": "dH3LEgk2fVKH"
   },
   "outputs": [],
   "source": [
    "labels=[]\n",
    "for i in df.user_mentions_screen_name:\n",
    "  if i in lista:\n",
    "    labels.append(i)\n",
    "  else:\n",
    "    labels.append(' ')"
   ]
  },
  {
   "cell_type": "code",
   "execution_count": null,
   "metadata": {
    "id": "ucG71U-ZfVMn"
   },
   "outputs": [],
   "source": [
    "labels = pd.Series(labels)\n",
    "df['labels']=labels"
   ]
  },
  {
   "cell_type": "code",
   "execution_count": null,
   "metadata": {
    "id": "s0T9GXcihWcP"
   },
   "outputs": [],
   "source": [
    "df=df.drop(columns=['index'])"
   ]
  },
  {
   "cell_type": "code",
   "execution_count": null,
   "metadata": {
    "id": "gRcrgjrqhWew"
   },
   "outputs": [],
   "source": [
    "df=df.reset_index(drop=True)"
   ]
  },
  {
   "cell_type": "code",
   "execution_count": null,
   "metadata": {
    "colab": {
     "base_uri": "https://localhost:8080/",
     "height": 1000
    },
    "executionInfo": {
     "elapsed": 811,
     "status": "ok",
     "timestamp": 1630156476493,
     "user": {
      "displayName": "Davide Vercesi",
      "photoUrl": "",
      "userId": "18333951940652836391"
     },
     "user_tz": -120
    },
    "id": "8f_dNSUohWjl",
    "outputId": "1ca3dfcf-184f-4b1c-9d76-a1295a2145ff"
   },
   "outputs": [
    {
     "data": {
      "text/html": [
       "<div>\n",
       "<style scoped>\n",
       "    .dataframe tbody tr th:only-of-type {\n",
       "        vertical-align: middle;\n",
       "    }\n",
       "\n",
       "    .dataframe tbody tr th {\n",
       "        vertical-align: top;\n",
       "    }\n",
       "\n",
       "    .dataframe thead th {\n",
       "        text-align: right;\n",
       "    }\n",
       "</style>\n",
       "<table border=\"1\" class=\"dataframe\">\n",
       "  <thead>\n",
       "    <tr style=\"text-align: right;\">\n",
       "      <th></th>\n",
       "      <th>source</th>\n",
       "      <th>screen_name</th>\n",
       "      <th>target</th>\n",
       "      <th>user_mentions_screen_name</th>\n",
       "      <th>user_followers</th>\n",
       "      <th>text</th>\n",
       "      <th>weight</th>\n",
       "      <th>labels</th>\n",
       "    </tr>\n",
       "  </thead>\n",
       "  <tbody>\n",
       "    <tr>\n",
       "      <th>0</th>\n",
       "      <td>422</td>\n",
       "      <td>shellen</td>\n",
       "      <td>2279776304</td>\n",
       "      <td>Giannis_An34</td>\n",
       "      <td>26123</td>\n",
       "      <td>nice work gianisan bucks feaheder</td>\n",
       "      <td>1</td>\n",
       "      <td>Giannis_An34</td>\n",
       "    </tr>\n",
       "    <tr>\n",
       "      <th>3</th>\n",
       "      <td>874</td>\n",
       "      <td>waynesutton</td>\n",
       "      <td>15900167</td>\n",
       "      <td>Bucks</td>\n",
       "      <td>70232</td>\n",
       "      <td>bucks</td>\n",
       "      <td>1</td>\n",
       "      <td>Bucks</td>\n",
       "    </tr>\n",
       "    <tr>\n",
       "      <th>4</th>\n",
       "      <td>874</td>\n",
       "      <td>waynesutton</td>\n",
       "      <td>18481113</td>\n",
       "      <td>Suns</td>\n",
       "      <td>70232</td>\n",
       "      <td>realized going suns coach monty williams team ...</td>\n",
       "      <td>1</td>\n",
       "      <td>Suns</td>\n",
       "    </tr>\n",
       "    <tr>\n",
       "      <th>9</th>\n",
       "      <td>12225</td>\n",
       "      <td>satya</td>\n",
       "      <td>19085082</td>\n",
       "      <td>BallySportWI</td>\n",
       "      <td>5105</td>\n",
       "      <td>balyspowi gianis staying milwaukee could 've g...</td>\n",
       "      <td>1</td>\n",
       "      <td></td>\n",
       "    </tr>\n",
       "    <tr>\n",
       "      <th>13</th>\n",
       "      <td>12997</td>\n",
       "      <td>ylynfatt</td>\n",
       "      <td>15900167</td>\n",
       "      <td>Bucks</td>\n",
       "      <td>449</td>\n",
       "      <td>congrats bucks fought back win straight champi...</td>\n",
       "      <td>1</td>\n",
       "      <td>Bucks</td>\n",
       "    </tr>\n",
       "    <tr>\n",
       "      <th>14</th>\n",
       "      <td>20503</td>\n",
       "      <td>pageman</td>\n",
       "      <td>15053533</td>\n",
       "      <td>mdesisti</td>\n",
       "      <td>4078</td>\n",
       "      <td>mdesisti wow pics tc i'l post congrats bucks ride</td>\n",
       "      <td>1</td>\n",
       "      <td></td>\n",
       "    </tr>\n",
       "    <tr>\n",
       "      <th>15</th>\n",
       "      <td>20503</td>\n",
       "      <td>pageman</td>\n",
       "      <td>15900167</td>\n",
       "      <td>Bucks</td>\n",
       "      <td>4078</td>\n",
       "      <td>bucks people told ca n't unmake throws made fr...</td>\n",
       "      <td>1</td>\n",
       "      <td>Bucks</td>\n",
       "    </tr>\n",
       "    <tr>\n",
       "      <th>16</th>\n",
       "      <td>20503</td>\n",
       "      <td>pageman</td>\n",
       "      <td>22178780</td>\n",
       "      <td>NBAonTNT</td>\n",
       "      <td>4078</td>\n",
       "      <td>nbaont best best 💪 gianis antetokounmpo nbafin...</td>\n",
       "      <td>1</td>\n",
       "      <td>NBAonTNT</td>\n",
       "    </tr>\n",
       "    <tr>\n",
       "      <th>17</th>\n",
       "      <td>20503</td>\n",
       "      <td>pageman</td>\n",
       "      <td>366781966</td>\n",
       "      <td>LilySZhao</td>\n",
       "      <td>4078</td>\n",
       "      <td>lilyszhao bucks gianis antetokounmpo 🤣 “ n't p...</td>\n",
       "      <td>1</td>\n",
       "      <td></td>\n",
       "    </tr>\n",
       "    <tr>\n",
       "      <th>18</th>\n",
       "      <td>20503</td>\n",
       "      <td>pageman</td>\n",
       "      <td>912359571947085824</td>\n",
       "      <td>RealBillRussell</td>\n",
       "      <td>4078</td>\n",
       "      <td>realbilrusel sorry take covid pass year gianis...</td>\n",
       "      <td>1</td>\n",
       "      <td>RealBillRussell</td>\n",
       "    </tr>\n",
       "    <tr>\n",
       "      <th>19</th>\n",
       "      <td>28863</td>\n",
       "      <td>codesgood</td>\n",
       "      <td>25643394</td>\n",
       "      <td>whitneyclarktv</td>\n",
       "      <td>140</td>\n",
       "      <td>whitneyclarktv suns brought much joy phoenix a...</td>\n",
       "      <td>1</td>\n",
       "      <td></td>\n",
       "    </tr>\n",
       "    <tr>\n",
       "      <th>23</th>\n",
       "      <td>43693</td>\n",
       "      <td>kaimac</td>\n",
       "      <td>15900167</td>\n",
       "      <td>Bucks</td>\n",
       "      <td>5669</td>\n",
       "      <td>nice congrats bucks guy gianisan quite somethi...</td>\n",
       "      <td>1</td>\n",
       "      <td>Bucks</td>\n",
       "    </tr>\n",
       "    <tr>\n",
       "      <th>24</th>\n",
       "      <td>43693</td>\n",
       "      <td>kaimac</td>\n",
       "      <td>15900167</td>\n",
       "      <td>Bucks</td>\n",
       "      <td>5669</td>\n",
       "      <td>normally hate trophy presentation stuff post g...</td>\n",
       "      <td>1</td>\n",
       "      <td>Bucks</td>\n",
       "    </tr>\n",
       "    <tr>\n",
       "      <th>25</th>\n",
       "      <td>43693</td>\n",
       "      <td>kaimac</td>\n",
       "      <td>15900167</td>\n",
       "      <td>Bucks</td>\n",
       "      <td>5670</td>\n",
       "      <td>bucks close tonight nah nbafinals</td>\n",
       "      <td>1</td>\n",
       "      <td>Bucks</td>\n",
       "    </tr>\n",
       "    <tr>\n",
       "      <th>26</th>\n",
       "      <td>43693</td>\n",
       "      <td>kaimac</td>\n",
       "      <td>15900167</td>\n",
       "      <td>Bucks</td>\n",
       "      <td>5670</td>\n",
       "      <td>fact bucks within one one player playing offen...</td>\n",
       "      <td>1</td>\n",
       "      <td>Bucks</td>\n",
       "    </tr>\n",
       "    <tr>\n",
       "      <th>27</th>\n",
       "      <td>43693</td>\n",
       "      <td>kaimac</td>\n",
       "      <td>18481113</td>\n",
       "      <td>Suns</td>\n",
       "      <td>5669</td>\n",
       "      <td>couple pretty suns friendly calls last minutes...</td>\n",
       "      <td>1</td>\n",
       "      <td>Suns</td>\n",
       "    </tr>\n",
       "    <tr>\n",
       "      <th>28</th>\n",
       "      <td>43693</td>\n",
       "      <td>kaimac</td>\n",
       "      <td>2279776304</td>\n",
       "      <td>Giannis_An34</td>\n",
       "      <td>5669</td>\n",
       "      <td>casual dominating star performance gianisan dr...</td>\n",
       "      <td>1</td>\n",
       "      <td>Giannis_An34</td>\n",
       "    </tr>\n",
       "    <tr>\n",
       "      <th>29</th>\n",
       "      <td>43693</td>\n",
       "      <td>kaimac</td>\n",
       "      <td>2279776304</td>\n",
       "      <td>Giannis_An34</td>\n",
       "      <td>5669</td>\n",
       "      <td>one time greatest finals performances right un...</td>\n",
       "      <td>1</td>\n",
       "      <td>Giannis_An34</td>\n",
       "    </tr>\n",
       "    <tr>\n",
       "      <th>30</th>\n",
       "      <td>54643</td>\n",
       "      <td>legaleaglewi</td>\n",
       "      <td>234896532</td>\n",
       "      <td>GovEvers</td>\n",
       "      <td>5299</td>\n",
       "      <td>govers holy mackerel milwaukee bucks done six ...</td>\n",
       "      <td>1</td>\n",
       "      <td></td>\n",
       "    </tr>\n",
       "    <tr>\n",
       "      <th>34</th>\n",
       "      <td>654203</td>\n",
       "      <td>IOL</td>\n",
       "      <td>2279776304</td>\n",
       "      <td>Giannis_An34</td>\n",
       "      <td>525083</td>\n",
       "      <td>gianisan scored points added rebounds five blo...</td>\n",
       "      <td>1</td>\n",
       "      <td>Giannis_An34</td>\n",
       "    </tr>\n",
       "    <tr>\n",
       "      <th>36</th>\n",
       "      <td>659833</td>\n",
       "      <td>g_mastropavlos</td>\n",
       "      <td>15900167</td>\n",
       "      <td>Bucks</td>\n",
       "      <td>13417</td>\n",
       "      <td>piece win championship gianisantetokounmpo buc...</td>\n",
       "      <td>1</td>\n",
       "      <td>Bucks</td>\n",
       "    </tr>\n",
       "    <tr>\n",
       "      <th>49</th>\n",
       "      <td>759108</td>\n",
       "      <td>jeff25624</td>\n",
       "      <td>4261651216</td>\n",
       "      <td>JustinGerber7</td>\n",
       "      <td>386</td>\n",
       "      <td>justingerber congrats bucks happy gianis ’ lea...</td>\n",
       "      <td>1</td>\n",
       "      <td></td>\n",
       "    </tr>\n",
       "    <tr>\n",
       "      <th>52</th>\n",
       "      <td>762115</td>\n",
       "      <td>paranoideo</td>\n",
       "      <td>1515110737</td>\n",
       "      <td>TheToriParadox</td>\n",
       "      <td>4561</td>\n",
       "      <td>thetoriparadox los tres hermanos antetokounmpo...</td>\n",
       "      <td>1</td>\n",
       "      <td></td>\n",
       "    </tr>\n",
       "    <tr>\n",
       "      <th>54</th>\n",
       "      <td>778086</td>\n",
       "      <td>queenkv</td>\n",
       "      <td>19923144</td>\n",
       "      <td>NBA</td>\n",
       "      <td>3889</td>\n",
       "      <td>nba biggest game lives suns coach monty willia...</td>\n",
       "      <td>1</td>\n",
       "      <td>NBA</td>\n",
       "    </tr>\n",
       "    <tr>\n",
       "      <th>55</th>\n",
       "      <td>798849</td>\n",
       "      <td>dany</td>\n",
       "      <td>3016153629</td>\n",
       "      <td>MarcoColin_</td>\n",
       "      <td>123663</td>\n",
       "      <td>retomo este video que tuiteó marcolin grande g...</td>\n",
       "      <td>1</td>\n",
       "      <td></td>\n",
       "    </tr>\n",
       "    <tr>\n",
       "      <th>57</th>\n",
       "      <td>804681</td>\n",
       "      <td>SethNickerson</td>\n",
       "      <td>23135306</td>\n",
       "      <td>gwillperry</td>\n",
       "      <td>223</td>\n",
       "      <td>gwilpery 's easily hardest working player leag...</td>\n",
       "      <td>1</td>\n",
       "      <td></td>\n",
       "    </tr>\n",
       "    <tr>\n",
       "      <th>58</th>\n",
       "      <td>804681</td>\n",
       "      <td>SethNickerson</td>\n",
       "      <td>246351308</td>\n",
       "      <td>palazzo214</td>\n",
       "      <td>223</td>\n",
       "      <td>palazo colincowherd gianisan gota stay healthy...</td>\n",
       "      <td>1</td>\n",
       "      <td></td>\n",
       "    </tr>\n",
       "    <tr>\n",
       "      <th>59</th>\n",
       "      <td>805094</td>\n",
       "      <td>KeVroN</td>\n",
       "      <td>234896532</td>\n",
       "      <td>GovEvers</td>\n",
       "      <td>1119</td>\n",
       "      <td>govers holy mackerel milwaukee bucks done six ...</td>\n",
       "      <td>1</td>\n",
       "      <td></td>\n",
       "    </tr>\n",
       "    <tr>\n",
       "      <th>60</th>\n",
       "      <td>805094</td>\n",
       "      <td>KeVroN</td>\n",
       "      <td>6480652</td>\n",
       "      <td>paulscheer</td>\n",
       "      <td>1119</td>\n",
       "      <td>paulscher scott foster going th nbafinals</td>\n",
       "      <td>1</td>\n",
       "      <td></td>\n",
       "    </tr>\n",
       "    <tr>\n",
       "      <th>62</th>\n",
       "      <td>818805</td>\n",
       "      <td>stephenmatlock</td>\n",
       "      <td>20794662</td>\n",
       "      <td>BrianZahnd</td>\n",
       "      <td>1629</td>\n",
       "      <td>brianzahnd remember milwaukee bucks nba champi...</td>\n",
       "      <td>1</td>\n",
       "      <td></td>\n",
       "    </tr>\n",
       "    <tr>\n",
       "      <th>63</th>\n",
       "      <td>850741</td>\n",
       "      <td>tsand</td>\n",
       "      <td>15900167</td>\n",
       "      <td>Bucks</td>\n",
       "      <td>3811</td>\n",
       "      <td>let ’ go bucks feaheder</td>\n",
       "      <td>1</td>\n",
       "      <td>Bucks</td>\n",
       "    </tr>\n",
       "    <tr>\n",
       "      <th>66</th>\n",
       "      <td>851211</td>\n",
       "      <td>benwikler</td>\n",
       "      <td>1074518754</td>\n",
       "      <td>SenatorBaldwin</td>\n",
       "      <td>157605</td>\n",
       "      <td>senatorbaldwin bucks hard working humble resil...</td>\n",
       "      <td>1</td>\n",
       "      <td></td>\n",
       "    </tr>\n",
       "    <tr>\n",
       "      <th>67</th>\n",
       "      <td>851211</td>\n",
       "      <td>benwikler</td>\n",
       "      <td>1075127563796783109</td>\n",
       "      <td>DeerDistrict</td>\n",
       "      <td>157606</td>\n",
       "      <td>derdistrict 👀 gameday crew derdistrict feaheder</td>\n",
       "      <td>1</td>\n",
       "      <td></td>\n",
       "    </tr>\n",
       "    <tr>\n",
       "      <th>68</th>\n",
       "      <td>851211</td>\n",
       "      <td>benwikler</td>\n",
       "      <td>234896532</td>\n",
       "      <td>GovEvers</td>\n",
       "      <td>157606</td>\n",
       "      <td>govers holy mackerel milwaukee bucks done six ...</td>\n",
       "      <td>1</td>\n",
       "      <td></td>\n",
       "    </tr>\n",
       "    <tr>\n",
       "      <th>69</th>\n",
       "      <td>851211</td>\n",
       "      <td>benwikler</td>\n",
       "      <td>52824038</td>\n",
       "      <td>Brewers</td>\n",
       "      <td>157612</td>\n",
       "      <td>brewers ’ representing city formilwauke feaheder</td>\n",
       "      <td>1</td>\n",
       "      <td></td>\n",
       "    </tr>\n",
       "    <tr>\n",
       "      <th>70</th>\n",
       "      <td>851211</td>\n",
       "      <td>benwikler</td>\n",
       "      <td>7395552</td>\n",
       "      <td>adityasood</td>\n",
       "      <td>157606</td>\n",
       "      <td>adityasod last year pretty good democratic buc...</td>\n",
       "      <td>1</td>\n",
       "      <td></td>\n",
       "    </tr>\n",
       "    <tr>\n",
       "      <th>73</th>\n",
       "      <td>963611</td>\n",
       "      <td>heatxsink</td>\n",
       "      <td>53853197</td>\n",
       "      <td>CP3</td>\n",
       "      <td>673</td>\n",
       "      <td>come cp … tonight night ralythevaley</td>\n",
       "      <td>1</td>\n",
       "      <td></td>\n",
       "    </tr>\n",
       "    <tr>\n",
       "      <th>75</th>\n",
       "      <td>969381</td>\n",
       "      <td>buzzer</td>\n",
       "      <td>25319414</td>\n",
       "      <td>NBATV</td>\n",
       "      <td>10569</td>\n",
       "      <td>nbatv cp tough bucket 🤧 nbafinals</td>\n",
       "      <td>1</td>\n",
       "      <td>NBATV</td>\n",
       "    </tr>\n",
       "    <tr>\n",
       "      <th>77</th>\n",
       "      <td>1101791</td>\n",
       "      <td>JerseyTodd</td>\n",
       "      <td>15900167</td>\n",
       "      <td>Bucks</td>\n",
       "      <td>3419</td>\n",
       "      <td>bucks people told ca n't unmake throws made fr...</td>\n",
       "      <td>1</td>\n",
       "      <td>Bucks</td>\n",
       "    </tr>\n",
       "    <tr>\n",
       "      <th>80</th>\n",
       "      <td>1270851</td>\n",
       "      <td>rje7</td>\n",
       "      <td>48028402</td>\n",
       "      <td>rolopez42</td>\n",
       "      <td>4256</td>\n",
       "      <td>rolopez like bored nbafinals head sign join te...</td>\n",
       "      <td>1</td>\n",
       "      <td></td>\n",
       "    </tr>\n",
       "    <tr>\n",
       "      <th>83</th>\n",
       "      <td>1312381</td>\n",
       "      <td>supersloth</td>\n",
       "      <td>1109584069</td>\n",
       "      <td>SI_outofbounds</td>\n",
       "      <td>1456</td>\n",
       "      <td>sioutofbounds tinkle title 🤣 feaheder</td>\n",
       "      <td>1</td>\n",
       "      <td></td>\n",
       "    </tr>\n",
       "    <tr>\n",
       "      <th>84</th>\n",
       "      <td>1330201</td>\n",
       "      <td>LisaSabinWilson</td>\n",
       "      <td>35865630</td>\n",
       "      <td>packers</td>\n",
       "      <td>25584</td>\n",
       "      <td>packers h̶i̶s̶t̶o̶r̶y̶ ̶i̶n̶ ̶t̶h̶e̶ ̶m̶a̶k̶i̶...</td>\n",
       "      <td>1</td>\n",
       "      <td>packers</td>\n",
       "    </tr>\n",
       "    <tr>\n",
       "      <th>85</th>\n",
       "      <td>1431621</td>\n",
       "      <td>tobykdotcom</td>\n",
       "      <td>68330395</td>\n",
       "      <td>SherylCrow</td>\n",
       "      <td>1049</td>\n",
       "      <td>sherylcrow let ’ go bucks 💚 bucksinsix feahede...</td>\n",
       "      <td>1</td>\n",
       "      <td></td>\n",
       "    </tr>\n",
       "    <tr>\n",
       "      <th>86</th>\n",
       "      <td>1431621</td>\n",
       "      <td>tobykdotcom</td>\n",
       "      <td>68330395</td>\n",
       "      <td>SherylCrow</td>\n",
       "      <td>1049</td>\n",
       "      <td>sherylcrow win 💚 bucks bucksin feaheder gobucks</td>\n",
       "      <td>1</td>\n",
       "      <td></td>\n",
       "    </tr>\n",
       "    <tr>\n",
       "      <th>87</th>\n",
       "      <td>1437671</td>\n",
       "      <td>lander</td>\n",
       "      <td>1519700702</td>\n",
       "      <td>liviesofia</td>\n",
       "      <td>2353</td>\n",
       "      <td>liviesofia ej suns ralythevaley</td>\n",
       "      <td>1</td>\n",
       "      <td></td>\n",
       "    </tr>\n",
       "    <tr>\n",
       "      <th>92</th>\n",
       "      <td>1704851</td>\n",
       "      <td>LeberMac</td>\n",
       "      <td>1475326902</td>\n",
       "      <td>BucksInSix</td>\n",
       "      <td>209</td>\n",
       "      <td>feaheder bucksinsix wow</td>\n",
       "      <td>1</td>\n",
       "      <td></td>\n",
       "    </tr>\n",
       "    <tr>\n",
       "      <th>93</th>\n",
       "      <td>1710511</td>\n",
       "      <td>KZeni</td>\n",
       "      <td>809532994444591104</td>\n",
       "      <td>TheAthletic</td>\n",
       "      <td>134</td>\n",
       "      <td>theathletic ◽️ pts q ◽️ fg ◽️ ft ◽️ reb ◽️ blk...</td>\n",
       "      <td>1</td>\n",
       "      <td></td>\n",
       "    </tr>\n",
       "    <tr>\n",
       "      <th>94</th>\n",
       "      <td>1731681</td>\n",
       "      <td>MrSan</td>\n",
       "      <td>915726438</td>\n",
       "      <td>larrywilmore</td>\n",
       "      <td>1200</td>\n",
       "      <td>larywilmore bobby pois crazy hitchiker eyes nb...</td>\n",
       "      <td>1</td>\n",
       "      <td></td>\n",
       "    </tr>\n",
       "    <tr>\n",
       "      <th>96</th>\n",
       "      <td>1792551</td>\n",
       "      <td>sloannyc</td>\n",
       "      <td>15900167</td>\n",
       "      <td>Bucks</td>\n",
       "      <td>244</td>\n",
       "      <td>nicer deserving trio gianis middleton jrue leg...</td>\n",
       "      <td>1</td>\n",
       "      <td>Bucks</td>\n",
       "    </tr>\n",
       "    <tr>\n",
       "      <th>97</th>\n",
       "      <td>1792571</td>\n",
       "      <td>heydusti</td>\n",
       "      <td>43641364</td>\n",
       "      <td>Buccigross</td>\n",
       "      <td>1421</td>\n",
       "      <td>bucigros gianis born athens greece december so...</td>\n",
       "      <td>1</td>\n",
       "      <td></td>\n",
       "    </tr>\n",
       "  </tbody>\n",
       "</table>\n",
       "</div>"
      ],
      "text/plain": [
       "     source      screen_name  ... weight           labels\n",
       "0       422          shellen  ...      1     Giannis_An34\n",
       "3       874      waynesutton  ...      1            Bucks\n",
       "4       874      waynesutton  ...      1             Suns\n",
       "9     12225            satya  ...      1                 \n",
       "13    12997         ylynfatt  ...      1            Bucks\n",
       "14    20503          pageman  ...      1                 \n",
       "15    20503          pageman  ...      1            Bucks\n",
       "16    20503          pageman  ...      1         NBAonTNT\n",
       "17    20503          pageman  ...      1                 \n",
       "18    20503          pageman  ...      1  RealBillRussell\n",
       "19    28863        codesgood  ...      1                 \n",
       "23    43693           kaimac  ...      1            Bucks\n",
       "24    43693           kaimac  ...      1            Bucks\n",
       "25    43693           kaimac  ...      1            Bucks\n",
       "26    43693           kaimac  ...      1            Bucks\n",
       "27    43693           kaimac  ...      1             Suns\n",
       "28    43693           kaimac  ...      1     Giannis_An34\n",
       "29    43693           kaimac  ...      1     Giannis_An34\n",
       "30    54643     legaleaglewi  ...      1                 \n",
       "34   654203              IOL  ...      1     Giannis_An34\n",
       "36   659833   g_mastropavlos  ...      1            Bucks\n",
       "49   759108        jeff25624  ...      1                 \n",
       "52   762115       paranoideo  ...      1                 \n",
       "54   778086          queenkv  ...      1              NBA\n",
       "55   798849             dany  ...      1                 \n",
       "57   804681    SethNickerson  ...      1                 \n",
       "58   804681    SethNickerson  ...      1                 \n",
       "59   805094           KeVroN  ...      1                 \n",
       "60   805094           KeVroN  ...      1                 \n",
       "62   818805   stephenmatlock  ...      1                 \n",
       "63   850741            tsand  ...      1            Bucks\n",
       "66   851211        benwikler  ...      1                 \n",
       "67   851211        benwikler  ...      1                 \n",
       "68   851211        benwikler  ...      1                 \n",
       "69   851211        benwikler  ...      1                 \n",
       "70   851211        benwikler  ...      1                 \n",
       "73   963611        heatxsink  ...      1                 \n",
       "75   969381           buzzer  ...      1            NBATV\n",
       "77  1101791       JerseyTodd  ...      1            Bucks\n",
       "80  1270851             rje7  ...      1                 \n",
       "83  1312381       supersloth  ...      1                 \n",
       "84  1330201  LisaSabinWilson  ...      1          packers\n",
       "85  1431621      tobykdotcom  ...      1                 \n",
       "86  1431621      tobykdotcom  ...      1                 \n",
       "87  1437671           lander  ...      1                 \n",
       "92  1704851         LeberMac  ...      1                 \n",
       "93  1710511            KZeni  ...      1                 \n",
       "94  1731681            MrSan  ...      1                 \n",
       "96  1792551         sloannyc  ...      1            Bucks\n",
       "97  1792571         heydusti  ...      1                 \n",
       "\n",
       "[50 rows x 8 columns]"
      ]
     },
     "execution_count": 88,
     "metadata": {},
     "output_type": "execute_result"
    }
   ],
   "source": [
    "df = df[df.user_mentions_screen_name != '']\n",
    "df=df.rename(columns={'user_id_ret':'user_mentions_id'})\n",
    "df['user_mentions_screen_name'] = df.user_mentions_screen_name.str.slice(start=2, stop=-1)\n",
    "df['user_mentions_id'] = df.user_mentions_id.str.slice(start=2, stop=-1)\n",
    "df['labels'] = df.labels.str.slice(start=2, stop=-1)\n",
    "df=df.rename(columns={'user.id_str':'source','user_mentions_id':'target'})\n",
    "df['source']=df['source'].round(0).astype(int)\n",
    "df.head(50)"
   ]
  },
  {
   "cell_type": "code",
   "execution_count": null,
   "metadata": {
    "id": "Jjj1EMKPaIsZ"
   },
   "outputs": [],
   "source": [
    "#df['source']=df['source'].astype(str)\n",
    "#df['target']=df['target'].astype(str)\n",
    "df['source'] = df['source'].astype('|S80')\n",
    "df['target'] = df['target'].astype('|S80')"
   ]
  },
  {
   "cell_type": "code",
   "execution_count": null,
   "metadata": {
    "colab": {
     "base_uri": "https://localhost:8080/",
     "height": 417
    },
    "executionInfo": {
     "elapsed": 10,
     "status": "ok",
     "timestamp": 1629467076765,
     "user": {
      "displayName": "Davide Vercesi",
      "photoUrl": "",
      "userId": "18333951940652836391"
     },
     "user_tz": -120
    },
    "id": "T0z6xVgqImVN",
    "outputId": "95bfbe45-0685-4d95-b56b-8752715bb6ba"
   },
   "outputs": [
    {
     "data": {
      "text/html": [
       "<div>\n",
       "<style scoped>\n",
       "    .dataframe tbody tr th:only-of-type {\n",
       "        vertical-align: middle;\n",
       "    }\n",
       "\n",
       "    .dataframe tbody tr th {\n",
       "        vertical-align: top;\n",
       "    }\n",
       "\n",
       "    .dataframe thead th {\n",
       "        text-align: right;\n",
       "    }\n",
       "</style>\n",
       "<table border=\"1\" class=\"dataframe\">\n",
       "  <thead>\n",
       "    <tr style=\"text-align: right;\">\n",
       "      <th></th>\n",
       "      <th>source</th>\n",
       "      <th>screen_name</th>\n",
       "      <th>target</th>\n",
       "      <th>user_mentions_screen_name</th>\n",
       "      <th>user_followers</th>\n",
       "      <th>text</th>\n",
       "      <th>weight</th>\n",
       "      <th>labels</th>\n",
       "    </tr>\n",
       "  </thead>\n",
       "  <tbody>\n",
       "    <tr>\n",
       "      <th>0</th>\n",
       "      <td>b'422'</td>\n",
       "      <td>shellen</td>\n",
       "      <td>b'2279776304'</td>\n",
       "      <td>Giannis_An34</td>\n",
       "      <td>26123</td>\n",
       "      <td>nice work gianisan bucks feaheder</td>\n",
       "      <td>1</td>\n",
       "      <td>Giannis_An34</td>\n",
       "    </tr>\n",
       "    <tr>\n",
       "      <th>28</th>\n",
       "      <td>b'43693'</td>\n",
       "      <td>kaimac</td>\n",
       "      <td>b'2279776304'</td>\n",
       "      <td>Giannis_An34</td>\n",
       "      <td>5669</td>\n",
       "      <td>casual dominating star performance gianisan dr...</td>\n",
       "      <td>1</td>\n",
       "      <td>Giannis_An34</td>\n",
       "    </tr>\n",
       "    <tr>\n",
       "      <th>29</th>\n",
       "      <td>b'43693'</td>\n",
       "      <td>kaimac</td>\n",
       "      <td>b'2279776304'</td>\n",
       "      <td>Giannis_An34</td>\n",
       "      <td>5669</td>\n",
       "      <td>one time greatest finals performances right un...</td>\n",
       "      <td>1</td>\n",
       "      <td>Giannis_An34</td>\n",
       "    </tr>\n",
       "    <tr>\n",
       "      <th>34</th>\n",
       "      <td>b'654203'</td>\n",
       "      <td>IOL</td>\n",
       "      <td>b'2279776304'</td>\n",
       "      <td>Giannis_An34</td>\n",
       "      <td>525083</td>\n",
       "      <td>gianisan scored points added rebounds five blo...</td>\n",
       "      <td>1</td>\n",
       "      <td>Giannis_An34</td>\n",
       "    </tr>\n",
       "    <tr>\n",
       "      <th>73</th>\n",
       "      <td>b'963611'</td>\n",
       "      <td>heatxsink</td>\n",
       "      <td>b'53853197'</td>\n",
       "      <td>CP3</td>\n",
       "      <td>673</td>\n",
       "      <td>come cp … tonight night ralythevaley</td>\n",
       "      <td>1</td>\n",
       "      <td>CP3</td>\n",
       "    </tr>\n",
       "    <tr>\n",
       "      <th>...</th>\n",
       "      <td>...</td>\n",
       "      <td>...</td>\n",
       "      <td>...</td>\n",
       "      <td>...</td>\n",
       "      <td>...</td>\n",
       "      <td>...</td>\n",
       "      <td>...</td>\n",
       "      <td>...</td>\n",
       "    </tr>\n",
       "    <tr>\n",
       "      <th>182693</th>\n",
       "      <td>b'1404241860592377862'</td>\n",
       "      <td>CelticsToxic</td>\n",
       "      <td>b'53853197'</td>\n",
       "      <td>CP3</td>\n",
       "      <td>104</td>\n",
       "      <td>smoking pack tonight cp milvsphx scotfoster nb...</td>\n",
       "      <td>1</td>\n",
       "      <td>CP3</td>\n",
       "    </tr>\n",
       "    <tr>\n",
       "      <th>182699</th>\n",
       "      <td>b'1404330661914320897'</td>\n",
       "      <td>Kidus_99</td>\n",
       "      <td>b'53853197'</td>\n",
       "      <td>CP3</td>\n",
       "      <td>225</td>\n",
       "      <td>everyone talking shit cp real problem team ayt...</td>\n",
       "      <td>1</td>\n",
       "      <td>CP3</td>\n",
       "    </tr>\n",
       "    <tr>\n",
       "      <th>182963</th>\n",
       "      <td>b'1408144912864927749'</td>\n",
       "      <td>NFTGOATS</td>\n",
       "      <td>b'2279776304'</td>\n",
       "      <td>Giannis_An34</td>\n",
       "      <td>197</td>\n",
       "      <td>huge congrats gianisan winning first title wel...</td>\n",
       "      <td>1</td>\n",
       "      <td>Giannis_An34</td>\n",
       "    </tr>\n",
       "    <tr>\n",
       "      <th>183110</th>\n",
       "      <td>b'1410428148622135301'</td>\n",
       "      <td>DRecEdits</td>\n",
       "      <td>b'2279776304'</td>\n",
       "      <td>Giannis_An34</td>\n",
       "      <td>745</td>\n",
       "      <td>night gianisan historic point night bucks take...</td>\n",
       "      <td>1</td>\n",
       "      <td>Giannis_An34</td>\n",
       "    </tr>\n",
       "    <tr>\n",
       "      <th>183134</th>\n",
       "      <td>b'1411482002377920513'</td>\n",
       "      <td>Usosuce420</td>\n",
       "      <td>b'2279776304'</td>\n",
       "      <td>Giannis_An34</td>\n",
       "      <td>122</td>\n",
       "      <td>gianis looking get piece gianisan feaheder buc...</td>\n",
       "      <td>1</td>\n",
       "      <td>Giannis_An34</td>\n",
       "    </tr>\n",
       "  </tbody>\n",
       "</table>\n",
       "<p>3124 rows × 8 columns</p>\n",
       "</div>"
      ],
      "text/plain": [
       "                        source   screen_name  ... weight        labels\n",
       "0                       b'422'       shellen  ...      1  Giannis_An34\n",
       "28                    b'43693'        kaimac  ...      1  Giannis_An34\n",
       "29                    b'43693'        kaimac  ...      1  Giannis_An34\n",
       "34                   b'654203'           IOL  ...      1  Giannis_An34\n",
       "73                   b'963611'     heatxsink  ...      1           CP3\n",
       "...                        ...           ...  ...    ...           ...\n",
       "182693  b'1404241860592377862'  CelticsToxic  ...      1           CP3\n",
       "182699  b'1404330661914320897'      Kidus_99  ...      1           CP3\n",
       "182963  b'1408144912864927749'      NFTGOATS  ...      1  Giannis_An34\n",
       "183110  b'1410428148622135301'     DRecEdits  ...      1  Giannis_An34\n",
       "183134  b'1411482002377920513'    Usosuce420  ...      1  Giannis_An34\n",
       "\n",
       "[3124 rows x 8 columns]"
      ]
     },
     "execution_count": 31,
     "metadata": {},
     "output_type": "execute_result"
    }
   ],
   "source": [
    "#df=df[(df['user_mentions_screen_name']=='Giannis_An34')|(df['user_mentions_screen_name']=='CP3')|(df['user_mentions_screen_name']=='Khris22m')|(df['user_mentions_screen_name']=='DevinBook')]\n",
    "#df"
   ]
  },
  {
   "cell_type": "code",
   "execution_count": null,
   "metadata": {
    "id": "N4RVOyoc1Y1n"
   },
   "outputs": [],
   "source": []
  },
  {
   "cell_type": "code",
   "execution_count": null,
   "metadata": {
    "colab": {
     "base_uri": "https://localhost:8080/",
     "height": 34
    },
    "executionInfo": {
     "elapsed": 1023,
     "status": "ok",
     "timestamp": 1630156508991,
     "user": {
      "displayName": "Davide Vercesi",
      "photoUrl": "",
      "userId": "18333951940652836391"
     },
     "user_tz": -120
    },
    "id": "Xtv09iyuhWmQ",
    "outputId": "222f2101-0fda-40f9-903e-c7f62a6eef85"
   },
   "outputs": [
    {
     "data": {
      "application/javascript": [
       "\n",
       "    async function download(id, filename, size) {\n",
       "      if (!google.colab.kernel.accessAllowed) {\n",
       "        return;\n",
       "      }\n",
       "      const div = document.createElement('div');\n",
       "      const label = document.createElement('label');\n",
       "      label.textContent = `Downloading \"${filename}\": `;\n",
       "      div.appendChild(label);\n",
       "      const progress = document.createElement('progress');\n",
       "      progress.max = size;\n",
       "      div.appendChild(progress);\n",
       "      document.body.appendChild(div);\n",
       "\n",
       "      const buffers = [];\n",
       "      let downloaded = 0;\n",
       "\n",
       "      const channel = await google.colab.kernel.comms.open(id);\n",
       "      // Send a message to notify the kernel that we're ready.\n",
       "      channel.send({})\n",
       "\n",
       "      for await (const message of channel.messages) {\n",
       "        // Send a message to notify the kernel that we're ready.\n",
       "        channel.send({})\n",
       "        if (message.buffers) {\n",
       "          for (const buffer of message.buffers) {\n",
       "            buffers.push(buffer);\n",
       "            downloaded += buffer.byteLength;\n",
       "            progress.value = downloaded;\n",
       "          }\n",
       "        }\n",
       "      }\n",
       "      const blob = new Blob(buffers, {type: 'application/binary'});\n",
       "      const a = document.createElement('a');\n",
       "      a.href = window.URL.createObjectURL(blob);\n",
       "      a.download = filename;\n",
       "      div.appendChild(a);\n",
       "      a.click();\n",
       "      div.remove();\n",
       "    }\n",
       "  "
      ],
      "text/plain": [
       "<IPython.core.display.Javascript object>"
      ]
     },
     "metadata": {},
     "output_type": "display_data"
    },
    {
     "data": {
      "application/javascript": [
       "download(\"download_cc68559c-5594-4f11-9aab-704a74e2bcd1\", \"Dataset_Gephi_mentions.csv\", 15038497)"
      ],
      "text/plain": [
       "<IPython.core.display.Javascript object>"
      ]
     },
     "metadata": {},
     "output_type": "display_data"
    }
   ],
   "source": [
    "from google.colab import files\n",
    "df.to_csv('Dataset_Gephi_mentions.csv', index=False)\n",
    "files.download('Dataset_Gephi_mentions.csv')"
   ]
  },
  {
   "cell_type": "code",
   "execution_count": null,
   "metadata": {
    "colab": {
     "base_uri": "https://localhost:8080/",
     "height": 204
    },
    "id": "JLuEjf714rmY",
    "outputId": "7de612b6-027b-4d51-9269-8777ae97004e"
   },
   "outputs": [
    {
     "data": {
      "text/html": [
       "<div>\n",
       "<style scoped>\n",
       "    .dataframe tbody tr th:only-of-type {\n",
       "        vertical-align: middle;\n",
       "    }\n",
       "\n",
       "    .dataframe tbody tr th {\n",
       "        vertical-align: top;\n",
       "    }\n",
       "\n",
       "    .dataframe thead th {\n",
       "        text-align: right;\n",
       "    }\n",
       "</style>\n",
       "<table border=\"1\" class=\"dataframe\">\n",
       "  <thead>\n",
       "    <tr style=\"text-align: right;\">\n",
       "      <th></th>\n",
       "      <th>source</th>\n",
       "      <th>screen_name</th>\n",
       "      <th>target</th>\n",
       "      <th>user_mentions_screen_name</th>\n",
       "      <th>weight</th>\n",
       "      <th>labels</th>\n",
       "    </tr>\n",
       "  </thead>\n",
       "  <tbody>\n",
       "    <tr>\n",
       "      <th>43658</th>\n",
       "      <td>1413064261782360066</td>\n",
       "      <td>JeronymoBoss2</td>\n",
       "      <td>912359571947085824</td>\n",
       "      <td>RealBillRussell</td>\n",
       "      <td>1</td>\n",
       "      <td></td>\n",
       "    </tr>\n",
       "    <tr>\n",
       "      <th>43659</th>\n",
       "      <td>1413171636241518594</td>\n",
       "      <td>JBlaze69er</td>\n",
       "      <td>926868226654404608</td>\n",
       "      <td>Nance726</td>\n",
       "      <td>1</td>\n",
       "      <td></td>\n",
       "    </tr>\n",
       "    <tr>\n",
       "      <th>43660</th>\n",
       "      <td>1414429021086093313</td>\n",
       "      <td>yesisworld</td>\n",
       "      <td>168541923</td>\n",
       "      <td>ACTforAmerica</td>\n",
       "      <td>1</td>\n",
       "      <td></td>\n",
       "    </tr>\n",
       "    <tr>\n",
       "      <th>43661</th>\n",
       "      <td>1415701981994360835</td>\n",
       "      <td>itslauryn21</td>\n",
       "      <td>1245300836596678661</td>\n",
       "      <td>Freshdipo1</td>\n",
       "      <td>1</td>\n",
       "      <td></td>\n",
       "    </tr>\n",
       "    <tr>\n",
       "      <th>43662</th>\n",
       "      <td>1415701981994360835</td>\n",
       "      <td>itslauryn21</td>\n",
       "      <td>1247266037965389825</td>\n",
       "      <td>Hayomide_1</td>\n",
       "      <td>1</td>\n",
       "      <td></td>\n",
       "    </tr>\n",
       "  </tbody>\n",
       "</table>\n",
       "</div>"
      ],
      "text/plain": [
       "                    source    screen_name  ... weight labels\n",
       "43658  1413064261782360066  JeronymoBoss2  ...      1       \n",
       "43659  1413171636241518594     JBlaze69er  ...      1       \n",
       "43660  1414429021086093313     yesisworld  ...      1       \n",
       "43661  1415701981994360835    itslauryn21  ...      1       \n",
       "43662  1415701981994360835    itslauryn21  ...      1       \n",
       "\n",
       "[5 rows x 6 columns]"
      ]
     },
     "execution_count": 157,
     "metadata": {
      "tags": []
     },
     "output_type": "execute_result"
    }
   ],
   "source": [
    "df.tail()"
   ]
  },
  {
   "cell_type": "code",
   "execution_count": null,
   "metadata": {
    "colab": {
     "base_uri": "https://localhost:8080/"
    },
    "id": "eArUVlXVXNzQ",
    "outputId": "91ab021e-355b-47d7-dc28-4894cbad4968"
   },
   "outputs": [
    {
     "data": {
      "text/plain": [
       "source                       object\n",
       "screen_name                  object\n",
       "target                       object\n",
       "user_mentions_screen_name    object\n",
       "weight                        int64\n",
       "labels                       object\n",
       "dtype: object"
      ]
     },
     "execution_count": 163,
     "metadata": {
      "tags": []
     },
     "output_type": "execute_result"
    }
   ],
   "source": [
    "df.dtypes"
   ]
  },
  {
   "cell_type": "code",
   "execution_count": null,
   "metadata": {
    "id": "myqSmsNsZ4yh"
   },
   "outputs": [],
   "source": []
  }
 ],
 "metadata": {
  "colab": {
   "collapsed_sections": [],
   "name": "Conversione_user_mentions (1).ipynb",
   "provenance": []
  },
  "kernelspec": {
   "display_name": "Python 3",
   "language": "python",
   "name": "python3"
  },
  "language_info": {
   "codemirror_mode": {
    "name": "ipython",
    "version": 3
   },
   "file_extension": ".py",
   "mimetype": "text/x-python",
   "name": "python",
   "nbconvert_exporter": "python",
   "pygments_lexer": "ipython3",
   "version": "3.7.3"
  }
 },
 "nbformat": 4,
 "nbformat_minor": 1
}
